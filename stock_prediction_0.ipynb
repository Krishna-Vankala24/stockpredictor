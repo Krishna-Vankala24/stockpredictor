{
  "nbformat": 4,
  "nbformat_minor": 0,
  "metadata": {
    "kernelspec": {
      "display_name": "Python 3",
      "language": "python",
      "name": "python3"
    },
    "language_info": {
      "codemirror_mode": {
        "name": "ipython",
        "version": 3
      },
      "file_extension": ".py",
      "mimetype": "text/x-python",
      "name": "python",
      "nbconvert_exporter": "python",
      "pygments_lexer": "ipython3",
      "version": "3.6.9"
    },
    "colab": {
      "name": "stock_prediction_0.ipynb",
      "provenance": [],
      "collapsed_sections": []
    }
  },
  "cells": [
    {
      "cell_type": "markdown",
      "metadata": {
        "id": "Zy6KzcWYdKbk"
      },
      "source": [
        "### Stock Market Prediction And Forecasting Using Stacked LSTM"
      ]
    },
    {
      "cell_type": "code",
      "metadata": {
        "id": "-ss6DFlodKbm"
      },
      "source": [
        "### Keras and Tensorflow >2.0"
      ],
      "execution_count": null,
      "outputs": []
    },
    {
      "cell_type": "code",
      "metadata": {
        "id": "yz27JbjEdKbn"
      },
      "source": [
        "### Data Collection\n",
        "import pandas_datareader as pdr\n",
        "key=\"de43205b8c75fac77ed65d88221729c2ac21eb7d\""
      ],
      "execution_count": null,
      "outputs": []
    },
    {
      "cell_type": "code",
      "metadata": {
        "id": "wm9Lq5kOdKbo"
      },
      "source": [
        "df = pdr.get_data_tiingo('AAPL', api_key=key)"
      ],
      "execution_count": null,
      "outputs": []
    },
    {
      "cell_type": "code",
      "metadata": {
        "id": "xW4DkffLdKbo"
      },
      "source": [
        "df.to_csv('AAPL.csv')"
      ],
      "execution_count": null,
      "outputs": []
    },
    {
      "cell_type": "code",
      "metadata": {
        "id": "lr-XcacudKbp"
      },
      "source": [
        "import pandas as pd"
      ],
      "execution_count": null,
      "outputs": []
    },
    {
      "cell_type": "code",
      "metadata": {
        "id": "wAw-QJmHdKbp"
      },
      "source": [
        "df=pd.read_csv('AAPL.csv')"
      ],
      "execution_count": null,
      "outputs": []
    },
    {
      "cell_type": "code",
      "metadata": {
        "id": "3qVCsagWdKbq",
        "colab": {
          "base_uri": "https://localhost:8080/",
          "height": 206
        },
        "outputId": "8017295b-8816-4689-d930-12b1f0793d1a"
      },
      "source": [
        "df.head()"
      ],
      "execution_count": null,
      "outputs": [
        {
          "output_type": "execute_result",
          "data": {
            "text/html": [
              "<div>\n",
              "<style scoped>\n",
              "    .dataframe tbody tr th:only-of-type {\n",
              "        vertical-align: middle;\n",
              "    }\n",
              "\n",
              "    .dataframe tbody tr th {\n",
              "        vertical-align: top;\n",
              "    }\n",
              "\n",
              "    .dataframe thead th {\n",
              "        text-align: right;\n",
              "    }\n",
              "</style>\n",
              "<table border=\"1\" class=\"dataframe\">\n",
              "  <thead>\n",
              "    <tr style=\"text-align: right;\">\n",
              "      <th></th>\n",
              "      <th>symbol</th>\n",
              "      <th>date</th>\n",
              "      <th>close</th>\n",
              "      <th>high</th>\n",
              "      <th>low</th>\n",
              "      <th>open</th>\n",
              "      <th>volume</th>\n",
              "      <th>adjClose</th>\n",
              "      <th>adjHigh</th>\n",
              "      <th>adjLow</th>\n",
              "      <th>adjOpen</th>\n",
              "      <th>adjVolume</th>\n",
              "      <th>divCash</th>\n",
              "      <th>splitFactor</th>\n",
              "    </tr>\n",
              "  </thead>\n",
              "  <tbody>\n",
              "    <tr>\n",
              "      <th>0</th>\n",
              "      <td>AAPL</td>\n",
              "      <td>2016-08-11 00:00:00+00:00</td>\n",
              "      <td>107.93</td>\n",
              "      <td>108.93</td>\n",
              "      <td>107.85</td>\n",
              "      <td>108.52</td>\n",
              "      <td>27484506</td>\n",
              "      <td>25.300711</td>\n",
              "      <td>25.535129</td>\n",
              "      <td>25.281958</td>\n",
              "      <td>25.439018</td>\n",
              "      <td>109938024</td>\n",
              "      <td>0.0</td>\n",
              "      <td>1.0</td>\n",
              "    </tr>\n",
              "    <tr>\n",
              "      <th>1</th>\n",
              "      <td>AAPL</td>\n",
              "      <td>2016-08-12 00:00:00+00:00</td>\n",
              "      <td>108.18</td>\n",
              "      <td>108.44</td>\n",
              "      <td>107.78</td>\n",
              "      <td>107.78</td>\n",
              "      <td>18660434</td>\n",
              "      <td>25.359316</td>\n",
              "      <td>25.420264</td>\n",
              "      <td>25.265548</td>\n",
              "      <td>25.265548</td>\n",
              "      <td>74641736</td>\n",
              "      <td>0.0</td>\n",
              "      <td>1.0</td>\n",
              "    </tr>\n",
              "    <tr>\n",
              "      <th>2</th>\n",
              "      <td>AAPL</td>\n",
              "      <td>2016-08-15 00:00:00+00:00</td>\n",
              "      <td>109.48</td>\n",
              "      <td>109.54</td>\n",
              "      <td>108.08</td>\n",
              "      <td>108.14</td>\n",
              "      <td>25868209</td>\n",
              "      <td>25.664059</td>\n",
              "      <td>25.678124</td>\n",
              "      <td>25.335874</td>\n",
              "      <td>25.349939</td>\n",
              "      <td>103472836</td>\n",
              "      <td>0.0</td>\n",
              "      <td>1.0</td>\n",
              "    </tr>\n",
              "    <tr>\n",
              "      <th>3</th>\n",
              "      <td>AAPL</td>\n",
              "      <td>2016-08-16 00:00:00+00:00</td>\n",
              "      <td>109.38</td>\n",
              "      <td>110.23</td>\n",
              "      <td>109.21</td>\n",
              "      <td>109.63</td>\n",
              "      <td>33794448</td>\n",
              "      <td>25.640617</td>\n",
              "      <td>25.839872</td>\n",
              "      <td>25.600766</td>\n",
              "      <td>25.699221</td>\n",
              "      <td>135177792</td>\n",
              "      <td>0.0</td>\n",
              "      <td>1.0</td>\n",
              "    </tr>\n",
              "    <tr>\n",
              "      <th>4</th>\n",
              "      <td>AAPL</td>\n",
              "      <td>2016-08-17 00:00:00+00:00</td>\n",
              "      <td>109.22</td>\n",
              "      <td>109.37</td>\n",
              "      <td>108.34</td>\n",
              "      <td>109.10</td>\n",
              "      <td>25355976</td>\n",
              "      <td>25.603110</td>\n",
              "      <td>25.638273</td>\n",
              "      <td>25.396822</td>\n",
              "      <td>25.574980</td>\n",
              "      <td>101423904</td>\n",
              "      <td>0.0</td>\n",
              "      <td>1.0</td>\n",
              "    </tr>\n",
              "  </tbody>\n",
              "</table>\n",
              "</div>"
            ],
            "text/plain": [
              "  symbol                       date   close  ...  adjVolume  divCash  splitFactor\n",
              "0   AAPL  2016-08-11 00:00:00+00:00  107.93  ...  109938024      0.0          1.0\n",
              "1   AAPL  2016-08-12 00:00:00+00:00  108.18  ...   74641736      0.0          1.0\n",
              "2   AAPL  2016-08-15 00:00:00+00:00  109.48  ...  103472836      0.0          1.0\n",
              "3   AAPL  2016-08-16 00:00:00+00:00  109.38  ...  135177792      0.0          1.0\n",
              "4   AAPL  2016-08-17 00:00:00+00:00  109.22  ...  101423904      0.0          1.0\n",
              "\n",
              "[5 rows x 14 columns]"
            ]
          },
          "metadata": {
            "tags": []
          },
          "execution_count": 7
        }
      ]
    },
    {
      "cell_type": "code",
      "metadata": {
        "id": "E5N2kIp2dKbr",
        "colab": {
          "base_uri": "https://localhost:8080/",
          "height": 206
        },
        "outputId": "66f7d457-768f-4a47-a4b6-70b16cc01aaa"
      },
      "source": [
        "df.tail()"
      ],
      "execution_count": null,
      "outputs": [
        {
          "output_type": "execute_result",
          "data": {
            "text/html": [
              "<div>\n",
              "<style scoped>\n",
              "    .dataframe tbody tr th:only-of-type {\n",
              "        vertical-align: middle;\n",
              "    }\n",
              "\n",
              "    .dataframe tbody tr th {\n",
              "        vertical-align: top;\n",
              "    }\n",
              "\n",
              "    .dataframe thead th {\n",
              "        text-align: right;\n",
              "    }\n",
              "</style>\n",
              "<table border=\"1\" class=\"dataframe\">\n",
              "  <thead>\n",
              "    <tr style=\"text-align: right;\">\n",
              "      <th></th>\n",
              "      <th>symbol</th>\n",
              "      <th>date</th>\n",
              "      <th>close</th>\n",
              "      <th>high</th>\n",
              "      <th>low</th>\n",
              "      <th>open</th>\n",
              "      <th>volume</th>\n",
              "      <th>adjClose</th>\n",
              "      <th>adjHigh</th>\n",
              "      <th>adjLow</th>\n",
              "      <th>adjOpen</th>\n",
              "      <th>adjVolume</th>\n",
              "      <th>divCash</th>\n",
              "      <th>splitFactor</th>\n",
              "    </tr>\n",
              "  </thead>\n",
              "  <tbody>\n",
              "    <tr>\n",
              "      <th>1252</th>\n",
              "      <td>AAPL</td>\n",
              "      <td>2021-08-03 00:00:00+00:00</td>\n",
              "      <td>147.36</td>\n",
              "      <td>148.045</td>\n",
              "      <td>145.18</td>\n",
              "      <td>145.81</td>\n",
              "      <td>64786618</td>\n",
              "      <td>147.138497</td>\n",
              "      <td>147.822467</td>\n",
              "      <td>144.961774</td>\n",
              "      <td>145.590827</td>\n",
              "      <td>64786618</td>\n",
              "      <td>0.00</td>\n",
              "      <td>1.0</td>\n",
              "    </tr>\n",
              "    <tr>\n",
              "      <th>1253</th>\n",
              "      <td>AAPL</td>\n",
              "      <td>2021-08-04 00:00:00+00:00</td>\n",
              "      <td>146.95</td>\n",
              "      <td>147.790</td>\n",
              "      <td>146.28</td>\n",
              "      <td>147.27</td>\n",
              "      <td>56368271</td>\n",
              "      <td>146.729113</td>\n",
              "      <td>147.567851</td>\n",
              "      <td>146.060120</td>\n",
              "      <td>147.048632</td>\n",
              "      <td>56368271</td>\n",
              "      <td>0.00</td>\n",
              "      <td>1.0</td>\n",
              "    </tr>\n",
              "    <tr>\n",
              "      <th>1254</th>\n",
              "      <td>AAPL</td>\n",
              "      <td>2021-08-05 00:00:00+00:00</td>\n",
              "      <td>147.06</td>\n",
              "      <td>147.840</td>\n",
              "      <td>146.17</td>\n",
              "      <td>146.98</td>\n",
              "      <td>46397674</td>\n",
              "      <td>146.838948</td>\n",
              "      <td>147.617775</td>\n",
              "      <td>145.950286</td>\n",
              "      <td>146.759068</td>\n",
              "      <td>46397674</td>\n",
              "      <td>0.00</td>\n",
              "      <td>1.0</td>\n",
              "    </tr>\n",
              "    <tr>\n",
              "      <th>1255</th>\n",
              "      <td>AAPL</td>\n",
              "      <td>2021-08-06 00:00:00+00:00</td>\n",
              "      <td>146.14</td>\n",
              "      <td>147.110</td>\n",
              "      <td>145.63</td>\n",
              "      <td>146.35</td>\n",
              "      <td>54126813</td>\n",
              "      <td>146.140000</td>\n",
              "      <td>147.110000</td>\n",
              "      <td>145.630000</td>\n",
              "      <td>146.350000</td>\n",
              "      <td>54126813</td>\n",
              "      <td>0.22</td>\n",
              "      <td>1.0</td>\n",
              "    </tr>\n",
              "    <tr>\n",
              "      <th>1256</th>\n",
              "      <td>AAPL</td>\n",
              "      <td>2021-08-09 00:00:00+00:00</td>\n",
              "      <td>146.09</td>\n",
              "      <td>146.700</td>\n",
              "      <td>145.52</td>\n",
              "      <td>146.20</td>\n",
              "      <td>48908689</td>\n",
              "      <td>146.090000</td>\n",
              "      <td>146.700000</td>\n",
              "      <td>145.520000</td>\n",
              "      <td>146.200000</td>\n",
              "      <td>48908689</td>\n",
              "      <td>0.00</td>\n",
              "      <td>1.0</td>\n",
              "    </tr>\n",
              "  </tbody>\n",
              "</table>\n",
              "</div>"
            ],
            "text/plain": [
              "     symbol                       date   close  ...  adjVolume  divCash  splitFactor\n",
              "1252   AAPL  2021-08-03 00:00:00+00:00  147.36  ...   64786618     0.00          1.0\n",
              "1253   AAPL  2021-08-04 00:00:00+00:00  146.95  ...   56368271     0.00          1.0\n",
              "1254   AAPL  2021-08-05 00:00:00+00:00  147.06  ...   46397674     0.00          1.0\n",
              "1255   AAPL  2021-08-06 00:00:00+00:00  146.14  ...   54126813     0.22          1.0\n",
              "1256   AAPL  2021-08-09 00:00:00+00:00  146.09  ...   48908689     0.00          1.0\n",
              "\n",
              "[5 rows x 14 columns]"
            ]
          },
          "metadata": {
            "tags": []
          },
          "execution_count": 8
        }
      ]
    },
    {
      "cell_type": "code",
      "metadata": {
        "id": "SAsJGYSldKbt"
      },
      "source": [
        "df1=df.reset_index()['close']"
      ],
      "execution_count": null,
      "outputs": []
    },
    {
      "cell_type": "code",
      "metadata": {
        "id": "0GgcFGxmdKbt",
        "colab": {
          "base_uri": "https://localhost:8080/"
        },
        "outputId": "db6a4965-5be5-4ded-94d5-6010d386025f"
      },
      "source": [
        "df1"
      ],
      "execution_count": null,
      "outputs": [
        {
          "output_type": "execute_result",
          "data": {
            "text/plain": [
              "0       107.93\n",
              "1       108.18\n",
              "2       109.48\n",
              "3       109.38\n",
              "4       109.22\n",
              "         ...  \n",
              "1252    147.36\n",
              "1253    146.95\n",
              "1254    147.06\n",
              "1255    146.14\n",
              "1256    146.09\n",
              "Name: close, Length: 1257, dtype: float64"
            ]
          },
          "metadata": {
            "tags": []
          },
          "execution_count": 10
        }
      ]
    },
    {
      "cell_type": "code",
      "metadata": {
        "id": "NqZBqHqmdKbu",
        "colab": {
          "base_uri": "https://localhost:8080/",
          "height": 283
        },
        "outputId": "719dd060-125c-4904-ce54-ffddacd577c1"
      },
      "source": [
        "import matplotlib.pyplot as plt\n",
        "plt.plot(df1)"
      ],
      "execution_count": null,
      "outputs": [
        {
          "output_type": "execute_result",
          "data": {
            "text/plain": [
              "[<matplotlib.lines.Line2D at 0x7ff84dcd6650>]"
            ]
          },
          "metadata": {
            "tags": []
          },
          "execution_count": 11
        },
        {
          "output_type": "display_data",
          "data": {
            "image/png": "[encoded data removed]",
            "text/plain": [
              "<Figure size 432x288 with 1 Axes>"
            ]
          },
          "metadata": {
            "tags": [],
            "needs_background": "light"
          }
        }
      ]
    },
    {
      "cell_type": "code",
      "metadata": {
        "id": "j448ZoK7dKbu"
      },
      "source": [
        "### LSTM are sensitive to the scale of the data. so we apply MinMax scaler "
      ],
      "execution_count": null,
      "outputs": []
    },
    {
      "cell_type": "code",
      "metadata": {
        "id": "oMDX-Qd1dKbu"
      },
      "source": [
        "import numpy as np"
      ],
      "execution_count": null,
      "outputs": []
    },
    {
      "cell_type": "code",
      "metadata": {
        "id": "O85mNuL9dKbu",
        "colab": {
          "base_uri": "https://localhost:8080/"
        },
        "outputId": "a101ae32-dd5a-4108-8069-f7549aaa7063"
      },
      "source": [
        "df1"
      ],
      "execution_count": null,
      "outputs": [
        {
          "output_type": "execute_result",
          "data": {
            "text/plain": [
              "0       107.93\n",
              "1       108.18\n",
              "2       109.48\n",
              "3       109.38\n",
              "4       109.22\n",
              "         ...  \n",
              "1252    147.36\n",
              "1253    146.95\n",
              "1254    147.06\n",
              "1255    146.14\n",
              "1256    146.09\n",
              "Name: close, Length: 1257, dtype: float64"
            ]
          },
          "metadata": {
            "tags": []
          },
          "execution_count": 14
        }
      ]
    },
    {
      "cell_type": "code",
      "metadata": {
        "id": "-xnZ2-q0dKbu"
      },
      "source": [
        "from sklearn.preprocessing import MinMaxScaler\n",
        "scaler=MinMaxScaler(feature_range=(0,1))\n",
        "df1=scaler.fit_transform(np.array(df1).reshape(-1,1))"
      ],
      "execution_count": null,
      "outputs": []
    },
    {
      "cell_type": "code",
      "metadata": {
        "id": "4qNKHrxAdKbv",
        "colab": {
          "base_uri": "https://localhost:8080/"
        },
        "outputId": "ff0e1b50-bbf6-4d6e-be91-b25190129622"
      },
      "source": [
        "print(df1)"
      ],
      "execution_count": null,
      "outputs": [
        {
          "output_type": "stream",
          "text": [
            "[[0.01191185]\n",
            " [0.01253226]\n",
            " [0.01575839]\n",
            " ...\n",
            " [0.10901826]\n",
            " [0.10673516]\n",
            " [0.10661108]]\n"
          ],
          "name": "stdout"
        }
      ]
    },
    {
      "cell_type": "code",
      "metadata": {
        "id": "9hqGu0kLdKbv"
      },
      "source": [
        "##splitting dataset into train and test split\n",
        "training_size=int(len(df1)*0.65)\n",
        "test_size=len(df1)-training_size\n",
        "train_data,test_data=df1[0:training_size,:],df1[training_size:len(df1),:1]"
      ],
      "execution_count": null,
      "outputs": []
    },
    {
      "cell_type": "code",
      "metadata": {
        "id": "WagxmMwtdKbv",
        "colab": {
          "base_uri": "https://localhost:8080/"
        },
        "outputId": "afb4c2e0-7200-40bf-b60c-faabed4c7699"
      },
      "source": [
        "training_size,test_size"
      ],
      "execution_count": null,
      "outputs": [
        {
          "output_type": "execute_result",
          "data": {
            "text/plain": [
              "(817, 440)"
            ]
          },
          "metadata": {
            "tags": []
          },
          "execution_count": 18
        }
      ]
    },
    {
      "cell_type": "code",
      "metadata": {
        "id": "7WcgzUFhdKbw",
        "colab": {
          "base_uri": "https://localhost:8080/"
        },
        "outputId": "baf3d8b9-b1bf-442f-ccb3-b844f1fa03f7"
      },
      "source": [
        "train_data"
      ],
      "execution_count": null,
      "outputs": [
        {
          "output_type": "execute_result",
          "data": {
            "text/plain": [
              "array([[0.01191185],\n",
              "       [0.01253226],\n",
              "       [0.01575839],\n",
              "       [0.01551022],\n",
              "       [0.01511316],\n",
              "       [0.01476573],\n",
              "       [0.01546059],\n",
              "       [0.0133512 ],\n",
              "       [0.01419496],\n",
              "       [0.01216002],\n",
              "       [0.01101846],\n",
              "       [0.00945503],\n",
              "       [0.00915724],\n",
              "       [0.0071223 ],\n",
              "       [0.00737046],\n",
              "       [0.00893389],\n",
              "       [0.01141553],\n",
              "       [0.01134108],\n",
              "       [0.01297896],\n",
              "       [0.00593111],\n",
              "       [0.        ],\n",
              "       [0.00573258],\n",
              "       [0.01196149],\n",
              "       [0.02144133],\n",
              "       [0.03087155],\n",
              "       [0.02925849],\n",
              "       [0.0259331 ],\n",
              "       [0.02590828],\n",
              "       [0.02585865],\n",
              "       [0.028514  ],\n",
              "       [0.02377407],\n",
              "       [0.02419595],\n",
              "       [0.02471709],\n",
              "       [0.0268513 ],\n",
              "       [0.0224588 ],\n",
              "       [0.02461783],\n",
              "       [0.02330256],\n",
              "       [0.02449375],\n",
              "       [0.02461783],\n",
              "       [0.0267024 ],\n",
              "       [0.02712428],\n",
              "       [0.03206274],\n",
              "       [0.03268314],\n",
              "       [0.03526405],\n",
              "       [0.03437066],\n",
              "       [0.03598372],\n",
              "       [0.03578519],\n",
              "       [0.03558666],\n",
              "       [0.03471809],\n",
              "       [0.03456919],\n",
              "       [0.03342764],\n",
              "       [0.03603335],\n",
              "       [0.03752233],\n",
              "       [0.03092118],\n",
              "       [0.02816657],\n",
              "       [0.02628052],\n",
              "       [0.02583383],\n",
              "       [0.02074648],\n",
              "       [0.02099464],\n",
              "       [0.01662696],\n",
              "       [0.01417014],\n",
              "       [0.01806631],\n",
              "       [0.01967937],\n",
              "       [0.01923268],\n",
              "       [0.01156442],\n",
              "       [0.01315267],\n",
              "       [0.00640262],\n",
              "       [0.00987691],\n",
              "       [0.01702402],\n",
              "       [0.01692476],\n",
              "       [0.01719774],\n",
              "       [0.02134207],\n",
              "       [0.02151578],\n",
              "       [0.02010125],\n",
              "       [0.02149097],\n",
              "       [0.02094501],\n",
              "       [0.02067203],\n",
              "       [0.01833929],\n",
              "       [0.0157832 ],\n",
              "       [0.01680068],\n",
              "       [0.01484018],\n",
              "       [0.01692476],\n",
              "       [0.01960492],\n",
              "       [0.02230991],\n",
              "       [0.0268513 ],\n",
              "       [0.02523824],\n",
              "       [0.02992853],\n",
              "       [0.02992853],\n",
              "       [0.03149196],\n",
              "       [0.0318642 ],\n",
              "       [0.0335269 ],\n",
              "       [0.03429621],\n",
              "       [0.03456919],\n",
              "       [0.03265833],\n",
              "       [0.0332291 ],\n",
              "       [0.03506552],\n",
              "       [0.0338247 ],\n",
              "       [0.03375025],\n",
              "       [0.03149196],\n",
              "       [0.0323109 ],\n",
              "       [0.03198829],\n",
              "       [0.03345245],\n",
              "       [0.03667858],\n",
              "       [0.03935875],\n",
              "       [0.03965654],\n",
              "       [0.04124479],\n",
              "       [0.04000397],\n",
              "       [0.03948283],\n",
              "       [0.0418652 ],\n",
              "       [0.04184038],\n",
              "       [0.04131924],\n",
              "       [0.0418652 ],\n",
              "       [0.04206373],\n",
              "       [0.04179075],\n",
              "       [0.04653067],\n",
              "       [0.04667957],\n",
              "       [0.04670439],\n",
              "       [0.04591026],\n",
              "       [0.04521541],\n",
              "       [0.06357951],\n",
              "       [0.06303355],\n",
              "       [0.06439845],\n",
              "       [0.06740123],\n",
              "       [0.07047846],\n",
              "       [0.07174409],\n",
              "       [0.07268712],\n",
              "       [0.07194262],\n",
              "       [0.07484614],\n",
              "       [0.07913937],\n",
              "       [0.08035537],\n",
              "       [0.0799459 ],\n",
              "       [0.08087651],\n",
              "       [0.08330852],\n",
              "       [0.08432599],\n",
              "       [0.08288664],\n",
              "       [0.08320925],\n",
              "       [0.08387929],\n",
              "       [0.08402819],\n",
              "       [0.09097677],\n",
              "       [0.08891701],\n",
              "       [0.09095196],\n",
              "       [0.08986004],\n",
              "       [0.09030673],\n",
              "       [0.08901628],\n",
              "       [0.08822216],\n",
              "       [0.08936371],\n",
              "       [0.08951261],\n",
              "       [0.08899146],\n",
              "       [0.09263947],\n",
              "       [0.09321024],\n",
              "       [0.0914731 ],\n",
              "       [0.0951211 ],\n",
              "       [0.09110085],\n",
              "       [0.09502184],\n",
              "       [0.09378102],\n",
              "       [0.09308616],\n",
              "       [0.09368176],\n",
              "       [0.10092813],\n",
              "       [0.10172226],\n",
              "       [0.10125074],\n",
              "       [0.1005807 ],\n",
              "       [0.10067997],\n",
              "       [0.10333532],\n",
              "       [0.10147409],\n",
              "       [0.1005807 ],\n",
              "       [0.09978658],\n",
              "       [0.0993647 ],\n",
              "       [0.09554298],\n",
              "       [0.09596486],\n",
              "       [0.09410363],\n",
              "       [0.09603931],\n",
              "       [0.09447588],\n",
              "       [0.09318543],\n",
              "       [0.09755311],\n",
              "       [0.09713123],\n",
              "       [0.10053107],\n",
              "       [0.10273973],\n",
              "       [0.10063034],\n",
              "       [0.10090332],\n",
              "       [0.10055589],\n",
              "       [0.10782708],\n",
              "       [0.110135  ],\n",
              "       [0.10901826],\n",
              "       [0.107703  ],\n",
              "       [0.11373337],\n",
              "       [0.123784  ],\n",
              "       [0.126216  ],\n",
              "       [0.12440441],\n",
              "       [0.12611674],\n",
              "       [0.13145225],\n",
              "       [0.1304596 ],\n",
              "       [0.12988882],\n",
              "       [0.11693468],\n",
              "       [0.12261763],\n",
              "       [0.12390808],\n",
              "       [0.126216  ],\n",
              "       [0.12574449],\n",
              "       [0.12460294],\n",
              "       [0.12591821],\n",
              "       [0.12527298],\n",
              "       [0.12542188],\n",
              "       [0.12316359],\n",
              "       [0.12420588],\n",
              "       [0.12983919],\n",
              "       [0.1260671 ],\n",
              "       [0.12735755],\n",
              "       [0.12964066],\n",
              "       [0.12869764],\n",
              "       [0.11378301],\n",
              "       [0.10494838],\n",
              "       [0.1078519 ],\n",
              "       [0.10430316],\n",
              "       [0.10214413],\n",
              "       [0.09713123],\n",
              "       [0.10723149],\n",
              "       [0.10393091],\n",
              "       [0.10606512],\n",
              "       [0.10546953],\n",
              "       [0.10708259],\n",
              "       [0.10594104],\n",
              "       [0.10075442],\n",
              "       [0.10596585],\n",
              "       [0.10063034],\n",
              "       [0.10147409],\n",
              "       [0.10018364],\n",
              "       [0.10164781],\n",
              "       [0.09827278],\n",
              "       [0.10187115],\n",
              "       [0.10405499],\n",
              "       [0.10522136],\n",
              "       [0.10574251],\n",
              "       [0.11078023],\n",
              "       [0.1139319 ],\n",
              "       [0.11522235],\n",
              "       [0.11651281],\n",
              "       [0.11884554],\n",
              "       [0.11715803],\n",
              "       [0.11698432],\n",
              "       [0.12150089],\n",
              "       [0.12311396],\n",
              "       [0.12490073],\n",
              "       [0.11770399],\n",
              "       [0.11507346],\n",
              "       [0.1131626 ],\n",
              "       [0.11643836],\n",
              "       [0.13403315],\n",
              "       [0.13013699],\n",
              "       [0.13217193],\n",
              "       [0.13817749],\n",
              "       [0.14132916],\n",
              "       [0.14376116],\n",
              "       [0.12951658],\n",
              "       [0.13487691],\n",
              "       [0.14075839],\n",
              "       [0.14510125],\n",
              "       [0.14348819],\n",
              "       [0.13581993],\n",
              "       [0.13492654],\n",
              "       [0.13420687],\n",
              "       [0.14058467],\n",
              "       [0.141081  ],\n",
              "       [0.13931904],\n",
              "       [0.1407832 ],\n",
              "       [0.14477864],\n",
              "       [0.14835219],\n",
              "       [0.14944411],\n",
              "       [0.15105718],\n",
              "       [0.15118126],\n",
              "       [0.14629244],\n",
              "       [0.14587056],\n",
              "       [0.14425749],\n",
              "       [0.13773079],\n",
              "       [0.14485309],\n",
              "       [0.14326484],\n",
              "       [0.14026206],\n",
              "       [0.13686222],\n",
              "       [0.14083284],\n",
              "       [0.13783006],\n",
              "       [0.13797896],\n",
              "       [0.1313778 ],\n",
              "       [0.12472702],\n",
              "       [0.12100457],\n",
              "       [0.11767917],\n",
              "       [0.12410661],\n",
              "       [0.12681159],\n",
              "       [0.12445404],\n",
              "       [0.12653861],\n",
              "       [0.12576931],\n",
              "       [0.127432  ],\n",
              "       [0.12495037],\n",
              "       [0.12969029],\n",
              "       [0.12946694],\n",
              "       [0.13080703],\n",
              "       [0.13095593],\n",
              "       [0.13256899],\n",
              "       [0.13120409],\n",
              "       [0.13366091],\n",
              "       [0.14083284],\n",
              "       [0.142297  ],\n",
              "       [0.14053504],\n",
              "       [0.13115446],\n",
              "       [0.1318245 ],\n",
              "       [0.13162597],\n",
              "       [0.13393389],\n",
              "       [0.13222156],\n",
              "       [0.1347032 ],\n",
              "       [0.14869962],\n",
              "       [0.15780723],\n",
              "       [0.16356462],\n",
              "       [0.1582291 ],\n",
              "       [0.1612567 ],\n",
              "       [0.17215108],\n",
              "       [0.17649394],\n",
              "       [0.17788366],\n",
              "       [0.1814324 ],\n",
              "       [0.18053901],\n",
              "       [0.17753623],\n",
              "       [0.17579909],\n",
              "       [0.16927238],\n",
              "       [0.16366389],\n",
              "       [0.16867679],\n",
              "       [0.16631924],\n",
              "       [0.16589736],\n",
              "       [0.17373933],\n",
              "       [0.17825591],\n",
              "       [0.17828072],\n",
              "       [0.17609688],\n",
              "       [0.17356561],\n",
              "       [0.16465654],\n",
              "       [0.17053802],\n",
              "       [0.16855271],\n",
              "       [0.16545067],\n",
              "       [0.1650536 ],\n",
              "       [0.16349017],\n",
              "       [0.16425948],\n",
              "       [0.16438356],\n",
              "       [0.17257296],\n",
              "       [0.17016577],\n",
              "       [0.17158031],\n",
              "       [0.17145622],\n",
              "       [0.17579909],\n",
              "       [0.18187909],\n",
              "       [0.17721362],\n",
              "       [0.17674211],\n",
              "       [0.17837999],\n",
              "       [0.17837999],\n",
              "       [0.16736152],\n",
              "       [0.16743597],\n",
              "       [0.16862716],\n",
              "       [0.16403613],\n",
              "       [0.17155549],\n",
              "       [0.17148104],\n",
              "       [0.17346635],\n",
              "       [0.17835517],\n",
              "       [0.17674211],\n",
              "       [0.17669248],\n",
              "       [0.17659321],\n",
              "       [0.17905003],\n",
              "       [0.18354179],\n",
              "       [0.18130832],\n",
              "       [0.18852988],\n",
              "       [0.18892694],\n",
              "       [0.18694163],\n",
              "       [0.18331844],\n",
              "       [0.18341771],\n",
              "       [0.1764195 ],\n",
              "       [0.16870161],\n",
              "       [0.16969426],\n",
              "       [0.16088446],\n",
              "       [0.15842764],\n",
              "       [0.15956919],\n",
              "       [0.16043776],\n",
              "       [0.14237145],\n",
              "       [0.13242009],\n",
              "       [0.14864999],\n",
              "       [0.13998908],\n",
              "       [0.1290947 ],\n",
              "       [0.13222156],\n",
              "       [0.14785587],\n",
              "       [0.15190093],\n",
              "       [0.15942029],\n",
              "       [0.17336708],\n",
              "       [0.17197737],\n",
              "       [0.17053802],\n",
              "       [0.16860234],\n",
              "       [0.17215108],\n",
              "       [0.17959599],\n",
              "       [0.18820727],\n",
              "       [0.18676792],\n",
              "       [0.18609788],\n",
              "       [0.17835517],\n",
              "       [0.18135795],\n",
              "       [0.18287175],\n",
              "       [0.1824995 ],\n",
              "       [0.17842962],\n",
              "       [0.18316955],\n",
              "       [0.19071372],\n",
              "       [0.19503176],\n",
              "       [0.1906889 ],\n",
              "       [0.186892  ],\n",
              "       [0.18741314],\n",
              "       [0.18584971],\n",
              "       [0.17909966],\n",
              "       [0.17895076],\n",
              "       [0.16909867],\n",
              "       [0.16309311],\n",
              "       [0.15338991],\n",
              "       [0.17282112],\n",
              "       [0.16182748],\n",
              "       [0.15721163],\n",
              "       [0.16043776],\n",
              "       [0.15770796],\n",
              "       [0.16195156],\n",
              "       [0.16994243],\n",
              "       [0.17289557],\n",
              "       [0.16192674],\n",
              "       [0.16607107],\n",
              "       [0.17401231],\n",
              "       [0.17200218],\n",
              "       [0.17622096],\n",
              "       [0.17768513],\n",
              "       [0.18039011],\n",
              "       [0.18639567],\n",
              "       [0.18540302],\n",
              "       [0.17289557],\n",
              "       [0.15532559],\n",
              "       [0.15413441],\n",
              "       [0.14842664],\n",
              "       [0.1501886 ],\n",
              "       [0.15160314],\n",
              "       [0.14688803],\n",
              "       [0.15418404],\n",
              "       [0.16371352],\n",
              "       [0.18225134],\n",
              "       [0.18304546],\n",
              "       [0.20026802],\n",
              "       [0.20356859],\n",
              "       [0.20577725],\n",
              "       [0.20902819],\n",
              "       [0.21567898],\n",
              "       [0.2120806 ],\n",
              "       [0.21098868],\n",
              "       [0.20674509],\n",
              "       [0.21106313],\n",
              "       [0.20810999],\n",
              "       [0.20642247],\n",
              "       [0.20969823],\n",
              "       [0.20853186],\n",
              "       [0.21150983],\n",
              "       [0.21098868],\n",
              "       [0.21205579],\n",
              "       [0.21036827],\n",
              "       [0.20937562],\n",
              "       [0.20781219],\n",
              "       [0.2161753 ],\n",
              "       [0.2201211 ],\n",
              "       [0.22379392],\n",
              "       [0.22545662],\n",
              "       [0.22416617],\n",
              "       [0.21979849],\n",
              "       [0.21863212],\n",
              "       [0.22123784],\n",
              "       [0.21731686],\n",
              "       [0.21756502],\n",
              "       [0.21270101],\n",
              "       [0.21245285],\n",
              "       [0.20488386],\n",
              "       [0.20689398],\n",
              "       [0.20431308],\n",
              "       [0.202973  ],\n",
              "       [0.1961485 ],\n",
              "       [0.201757  ],\n",
              "       [0.20108696],\n",
              "       [0.20441235],\n",
              "       [0.20344451],\n",
              "       [0.2085815 ],\n",
              "       [0.20049136],\n",
              "       [0.20416419],\n",
              "       [0.21054199],\n",
              "       [0.21701906],\n",
              "       [0.21644828],\n",
              "       [0.21031864],\n",
              "       [0.2181358 ],\n",
              "       [0.21888029],\n",
              "       [0.217838  ],\n",
              "       [0.21917808],\n",
              "       [0.21657236],\n",
              "       [0.22024519],\n",
              "       [0.21915327],\n",
              "       [0.21957514],\n",
              "       [0.22302462],\n",
              "       [0.2275412 ],\n",
              "       [0.2260274 ],\n",
              "       [0.21801171],\n",
              "       [0.21535636],\n",
              "       [0.21629938],\n",
              "       [0.24411852],\n",
              "       [0.25873536],\n",
              "       [0.26022434],\n",
              "       [0.26290451],\n",
              "       [0.2580405 ],\n",
              "       [0.25838793],\n",
              "       [0.262433  ],\n",
              "       [0.25908279],\n",
              "       [0.26240818],\n",
              "       [0.26459202],\n",
              "       [0.26580802],\n",
              "       [0.27345146],\n",
              "       [0.28402323],\n",
              "       [0.27876216],\n",
              "       [0.27771987],\n",
              "       [0.27774469],\n",
              "       [0.27883661],\n",
              "       [0.28049931],\n",
              "       [0.28491662],\n",
              "       [0.2892843 ],\n",
              "       [0.29742406],\n",
              "       [0.30251142],\n",
              "       [0.30896367],\n",
              "       [0.31077526],\n",
              "       [0.30707763],\n",
              "       [0.29772186],\n",
              "       [0.29325491],\n",
              "       [0.28588446],\n",
              "       [0.29958309],\n",
              "       [0.29268414],\n",
              "       [0.30593607],\n",
              "       [0.29955827],\n",
              "       [0.28476772],\n",
              "       [0.28566111],\n",
              "       [0.28598372],\n",
              "       [0.29010324],\n",
              "       [0.28422176],\n",
              "       [0.29198928],\n",
              "       [0.29546357],\n",
              "       [0.29107107],\n",
              "       [0.30231288],\n",
              "       [0.30427338],\n",
              "       [0.30804546],\n",
              "       [0.31305837],\n",
              "       [0.31998213],\n",
              "       [0.30985706],\n",
              "       [0.300675  ],\n",
              "       [0.29938455],\n",
              "       [0.30707763],\n",
              "       [0.28099563],\n",
              "       [0.27625571],\n",
              "       [0.29526504],\n",
              "       [0.28347727],\n",
              "       [0.2953643 ],\n",
              "       [0.29298193],\n",
              "       [0.28015188],\n",
              "       [0.28831646],\n",
              "       [0.29164185],\n",
              "       [0.29680365],\n",
              "       [0.27784395],\n",
              "       [0.28953246],\n",
              "       [0.28084673],\n",
              "       [0.27077129],\n",
              "       [0.27340183],\n",
              "       [0.28719972],\n",
              "       [0.29553802],\n",
              "       [0.25895871],\n",
              "       [0.24434187],\n",
              "       [0.24975184],\n",
              "       [0.26508835],\n",
              "       [0.26146516],\n",
              "       [0.25148898],\n",
              "       [0.22592813],\n",
              "       [0.22111376],\n",
              "       [0.20763848],\n",
              "       [0.21907882],\n",
              "       [0.22433988],\n",
              "       [0.20530574],\n",
              "       [0.18326881],\n",
              "       [0.18277248],\n",
              "       [0.17162994],\n",
              "       [0.17741215],\n",
              "       [0.17646913],\n",
              "       [0.19309609],\n",
              "       [0.18964662],\n",
              "       [0.18723943],\n",
              "       [0.20272484],\n",
              "       [0.18254914],\n",
              "       [0.17766031],\n",
              "       [0.16219972],\n",
              "       [0.16495434],\n",
              "       [0.16254715],\n",
              "       [0.16371352],\n",
              "       [0.16830455],\n",
              "       [0.15473   ],\n",
              "       [0.15090828],\n",
              "       [0.15619416],\n",
              "       [0.14333929],\n",
              "       [0.13326385],\n",
              "       [0.11812587],\n",
              "       [0.10844749],\n",
              "       [0.1341076 ],\n",
              "       [0.13157634],\n",
              "       [0.13177487],\n",
              "       [0.13552214],\n",
              "       [0.13596883],\n",
              "       [0.0969327 ],\n",
              "       [0.11199623],\n",
              "       [0.11117729],\n",
              "       [0.1181755 ],\n",
              "       [0.12452849],\n",
              "       [0.12574449],\n",
              "       [0.12199722],\n",
              "       [0.11631427],\n",
              "       [0.1239329 ],\n",
              "       [0.12857356],\n",
              "       [0.13085666],\n",
              "       [0.13323903],\n",
              "       [0.12450367],\n",
              "       [0.12604229],\n",
              "       [0.12301469],\n",
              "       [0.13557177],\n",
              "       [0.13194858],\n",
              "       [0.12792833],\n",
              "       [0.15415922],\n",
              "       [0.15711237],\n",
              "       [0.1573109 ],\n",
              "       [0.16904904],\n",
              "       [0.17632023],\n",
              "       [0.17646913],\n",
              "       [0.16827973],\n",
              "       [0.16696446],\n",
              "       [0.16453246],\n",
              "       [0.16815565],\n",
              "       [0.16639369],\n",
              "       [0.1679323 ],\n",
              "       [0.16698928],\n",
              "       [0.16825491],\n",
              "       [0.17098471],\n",
              "       [0.16857753],\n",
              "       [0.17331745],\n",
              "       [0.17644431],\n",
              "       [0.17669248],\n",
              "       [0.17803256],\n",
              "       [0.17376415],\n",
              "       [0.17828072],\n",
              "       [0.18046456],\n",
              "       [0.17967044],\n",
              "       [0.17716399],\n",
              "       [0.17215108],\n",
              "       [0.17316855],\n",
              "       [0.18803355],\n",
              "       [0.19302164],\n",
              "       [0.19500695],\n",
              "       [0.20001985],\n",
              "       [0.20595096],\n",
              "       [0.21066607],\n",
              "       [0.20696843],\n",
              "       [0.2110135 ],\n",
              "       [0.22821124],\n",
              "       [0.21818543],\n",
              "       [0.21245285],\n",
              "       [0.20761366],\n",
              "       [0.21178281],\n",
              "       [0.21240322],\n",
              "       [0.21545563],\n",
              "       [0.21865694],\n",
              "       [0.22555589],\n",
              "       [0.22885646],\n",
              "       [0.22970022],\n",
              "       [0.23295116],\n",
              "       [0.24064423],\n",
              "       [0.23915525],\n",
              "       [0.24193468],\n",
              "       [0.23779035],\n",
              "       [0.23759182],\n",
              "       [0.23848521],\n",
              "       [0.23853484],\n",
              "       [0.24816359],\n",
              "       [0.24997518],\n",
              "       [0.25163788],\n",
              "       [0.25895871],\n",
              "       [0.25816458],\n",
              "       [0.25349911],\n",
              "       [0.2510671 ],\n",
              "       [0.25183641],\n",
              "       [0.24205877],\n",
              "       [0.26650288],\n",
              "       [0.26310304],\n",
              "       [0.26955529],\n",
              "       [0.26144034],\n",
              "       [0.24749355],\n",
              "       [0.24759281],\n",
              "       [0.24218285],\n",
              "       [0.23339786],\n",
              "       [0.20495831],\n",
              "       [0.21225432],\n",
              "       [0.21786282],\n",
              "       [0.21577824],\n",
              "       [0.21309807],\n",
              "       [0.19843161],\n",
              "       [0.20714215],\n",
              "       [0.1976623 ],\n",
              "       [0.18991959],\n",
              "       [0.18820727],\n",
              "       [0.18637086],\n",
              "       [0.18426147],\n",
              "       [0.18654457],\n",
              "       [0.17852889],\n",
              "       [0.17413639],\n",
              "       [0.18986996],\n",
              "       [0.19706671],\n",
              "       [0.20371749],\n",
              "       [0.21595196],\n",
              "       [0.22198233],\n",
              "       [0.22751638],\n",
              "       [0.22597776],\n",
              "       [0.2258785 ],\n",
              "       [0.22237939],\n",
              "       [0.22523327],\n",
              "       [0.23654953],\n",
              "       [0.23511018],\n",
              "       [0.23905599],\n",
              "       [0.23736847],\n",
              "       [0.23687215],\n",
              "       [0.22940242],\n",
              "       [0.23989974],\n",
              "       [0.23975084],\n",
              "       [0.23523427],\n",
              "       [0.2442426 ],\n",
              "       [0.24717094],\n",
              "       [0.25134008],\n",
              "       [0.25089339],\n",
              "       [0.2404457 ],\n",
              "       [0.2434733 ],\n",
              "       [0.24841175],\n",
              "       [0.24473893],\n",
              "       [0.24858547],\n",
              "       [0.25332539],\n",
              "       [0.25156343],\n",
              "       [0.24870955],\n",
              "       [0.25444213],\n",
              "       [0.24682351],\n",
              "       [0.25831348],\n",
              "       [0.26233373],\n",
              "       [0.26191185],\n",
              "       [0.25781715],\n",
              "       [0.25960393],\n",
              "       [0.2644183 ],\n",
              "       [0.26218483],\n",
              "       [0.2727566 ],\n",
              "       [0.26131626],\n",
              "       [0.25037225],\n",
              "       [0.22386837],\n",
              "       [0.23295116],\n",
              "       [0.2380137 ],\n",
              "       [0.24890808],\n",
              "       [0.24285289],\n",
              "       [0.24158725],\n",
              "       [0.26265634],\n",
              "       [0.24722057],\n",
              "       [0.24471412],\n",
              "       [0.2565267 ],\n",
              "       [0.266081  ],\n",
              "       [0.26610582],\n",
              "       [0.27176395],\n",
              "       [0.27131725],\n",
              "       [0.24694759],\n",
              "       [0.25650189],\n",
              "       [0.25071967],\n",
              "       [0.25411952],\n",
              "       [0.26275561],\n",
              "       [0.26208557],\n",
              "       [0.25454139],\n",
              "       [0.2632023 ],\n",
              "       [0.27335219],\n",
              "       [0.27330256],\n",
              "       [0.27556085],\n",
              "       [0.28183939],\n",
              "       [0.29893786],\n",
              "       [0.29769704],\n",
              "       [0.28692674],\n",
              "       [0.28978062],\n",
              "       [0.29176593],\n",
              "       [0.29690292],\n",
              "       [0.29241116],\n",
              "       [0.28439547],\n",
              "       [0.28685229],\n",
              "       [0.28427139],\n",
              "       [0.29258487],\n",
              "       [0.28975581],\n",
              "       [0.28710046],\n",
              "       [0.29988088],\n",
              "       [0.3014195 ],\n",
              "       [0.28744789],\n",
              "       [0.29206373],\n",
              "       [0.30742505],\n",
              "       [0.30754914],\n",
              "       [0.30094798],\n",
              "       [0.30747469],\n",
              "       [0.31506849],\n",
              "       [0.3302561 ],\n",
              "       [0.32941235],\n",
              "       [0.32804745],\n",
              "       [0.32568989],\n",
              "       [0.32794818],\n",
              "       [0.33075243],\n",
              "       [0.34092714],\n",
              "       [0.33956224],\n",
              "       [0.34755311],\n",
              "       [0.34854576],\n",
              "       [0.35599067],\n",
              "       [0.36212031],\n",
              "       [0.34782609],\n",
              "       [0.34775164],\n",
              "       [0.36140064],\n",
              "       [0.37892098],\n",
              "       [0.38309013],\n",
              "       [0.38217193],\n",
              "       [0.38244491],\n",
              "       [0.38787969]])"
            ]
          },
          "metadata": {
            "tags": []
          },
          "execution_count": 19
        }
      ]
    },
    {
      "cell_type": "code",
      "metadata": {
        "id": "uVvqGZvNdKbw"
      },
      "source": [
        "import numpy\n",
        "# convert an array of values into a dataset matrix\n",
        "def create_dataset(dataset, time_step=1):\n",
        "\tdataX, dataY = [], []\n",
        "\tfor i in range(len(dataset)-time_step-1):\n",
        "\t\ta = dataset[i:(i+time_step), 0]   ###i=0, 0,1,2,3-----99   100 \n",
        "\t\tdataX.append(a)\n",
        "\t\tdataY.append(dataset[i + time_step, 0])\n",
        "\treturn numpy.array(dataX), numpy.array(dataY)"
      ],
      "execution_count": null,
      "outputs": []
    },
    {
      "cell_type": "code",
      "metadata": {
        "id": "kqrYbq6EdKbw"
      },
      "source": [
        "# reshape into X=t,t+1,t+2,t+3 and Y=t+4\n",
        "time_step = 100\n",
        "X_train, y_train = create_dataset(train_data, time_step)\n",
        "X_test, ytest = create_dataset(test_data, time_step)"
      ],
      "execution_count": null,
      "outputs": []
    },
    {
      "cell_type": "code",
      "metadata": {
        "id": "6BvLRcfodKbx",
        "colab": {
          "base_uri": "https://localhost:8080/"
        },
        "outputId": "5405d098-b8f1-4c40-b032-47c2214ad34e"
      },
      "source": [
        "print(X_train.shape), print(y_train.shape)"
      ],
      "execution_count": null,
      "outputs": [
        {
          "output_type": "stream",
          "text": [
            "(716, 100)\n",
            "(716,)\n"
          ],
          "name": "stdout"
        },
        {
          "output_type": "execute_result",
          "data": {
            "text/plain": [
              "(None, None)"
            ]
          },
          "metadata": {
            "tags": []
          },
          "execution_count": 22
        }
      ]
    },
    {
      "cell_type": "code",
      "metadata": {
        "id": "h_MA3e69dKby",
        "colab": {
          "base_uri": "https://localhost:8080/"
        },
        "outputId": "90c31795-8a07-441d-9165-5cca30505e69"
      },
      "source": [
        "print(X_test.shape), print(ytest.shape)"
      ],
      "execution_count": null,
      "outputs": [
        {
          "output_type": "stream",
          "text": [
            "(339, 100)\n",
            "(339,)\n"
          ],
          "name": "stdout"
        },
        {
          "output_type": "execute_result",
          "data": {
            "text/plain": [
              "(None, None)"
            ]
          },
          "metadata": {
            "tags": []
          },
          "execution_count": 23
        }
      ]
    },
    {
      "cell_type": "code",
      "metadata": {
        "id": "tyWAefwjdKby"
      },
      "source": [
        "# reshape input to be [samples, time steps, features] which is required for LSTM\n",
        "X_train =X_train.reshape(X_train.shape[0],X_train.shape[1] , 1)\n",
        "X_test = X_test.reshape(X_test.shape[0],X_test.shape[1] , 1)"
      ],
      "execution_count": null,
      "outputs": []
    },
    {
      "cell_type": "code",
      "metadata": {
        "id": "7XbBxa9AdKby"
      },
      "source": [
        "### Create the Stacked LSTM model\n",
        "from tensorflow.keras.models import Sequential\n",
        "from tensorflow.keras.layers import Dense\n",
        "from tensorflow.keras.layers import LSTM"
      ],
      "execution_count": null,
      "outputs": []
    },
    {
      "cell_type": "code",
      "metadata": {
        "id": "h1jWHH2fdKby"
      },
      "source": [
        "model=Sequential()\n",
        "model.add(LSTM(50,return_sequences=True,input_shape=(100,1)))\n",
        "model.add(LSTM(50,return_sequences=True))\n",
        "model.add(LSTM(50))\n",
        "model.add(Dense(1))\n",
        "model.compile(loss='mean_squared_error',optimizer='adam')\n"
      ],
      "execution_count": null,
      "outputs": []
    },
    {
      "cell_type": "code",
      "metadata": {
        "id": "jG7FZ2gPdKbz",
        "colab": {
          "base_uri": "https://localhost:8080/"
        },
        "outputId": "b2eff86b-c003-47ec-b652-dc3d43ff5c66"
      },
      "source": [
        "model.summary()"
      ],
      "execution_count": null,
      "outputs": [
        {
          "output_type": "stream",
          "text": [
            "Model: \"sequential\"\n",
            "_________________________________________________________________\n",
            "Layer (type)                 Output Shape              Param #   \n",
            "=================================================================\n",
            "lstm (LSTM)                  (None, 100, 50)           10400     \n",
            "_________________________________________________________________\n",
            "lstm_1 (LSTM)                (None, 100, 50)           20200     \n",
            "_________________________________________________________________\n",
            "lstm_2 (LSTM)                (None, 50)                20200     \n",
            "_________________________________________________________________\n",
            "dense (Dense)                (None, 1)                 51        \n",
            "=================================================================\n",
            "Total params: 50,851\n",
            "Trainable params: 50,851\n",
            "Non-trainable params: 0\n",
            "_________________________________________________________________\n"
          ],
          "name": "stdout"
        }
      ]
    },
    {
      "cell_type": "code",
      "metadata": {
        "id": "lKqp6x6XdKbz",
        "colab": {
          "base_uri": "https://localhost:8080/"
        },
        "outputId": "69f8591e-0e71-414e-c1ad-4f737c2c0933"
      },
      "source": [
        "model.summary()"
      ],
      "execution_count": null,
      "outputs": [
        {
          "output_type": "stream",
          "text": [
            "Model: \"sequential\"\n",
            "_________________________________________________________________\n",
            "Layer (type)                 Output Shape              Param #   \n",
            "=================================================================\n",
            "lstm (LSTM)                  (None, 100, 50)           10400     \n",
            "_________________________________________________________________\n",
            "lstm_1 (LSTM)                (None, 100, 50)           20200     \n",
            "_________________________________________________________________\n",
            "lstm_2 (LSTM)                (None, 50)                20200     \n",
            "_________________________________________________________________\n",
            "dense (Dense)                (None, 1)                 51        \n",
            "=================================================================\n",
            "Total params: 50,851\n",
            "Trainable params: 50,851\n",
            "Non-trainable params: 0\n",
            "_________________________________________________________________\n"
          ],
          "name": "stdout"
        }
      ]
    },
    {
      "cell_type": "code",
      "metadata": {
        "id": "WgWn_8CudKbz"
      },
      "source": [
        ""
      ],
      "execution_count": null,
      "outputs": []
    },
    {
      "cell_type": "code",
      "metadata": {
        "id": "JUP5cJPqdKb0",
        "colab": {
          "base_uri": "https://localhost:8080/"
        },
        "outputId": "bbcf7bf9-2bb0-4429-fe99-cd2a69b4bf57"
      },
      "source": [
        "model.fit(X_train,y_train,validation_data=(X_test,ytest),epochs=100,batch_size=64,verbose=1)"
      ],
      "execution_count": null,
      "outputs": [
        {
          "output_type": "stream",
          "text": [
            "Epoch 1/100\n",
            "12/12 [==============================] - 9s 305ms/step - loss: 0.0080 - val_loss: 0.0377\n",
            "Epoch 2/100\n",
            "12/12 [==============================] - 2s 194ms/step - loss: 0.0017 - val_loss: 0.0251\n",
            "Epoch 3/100\n",
            "12/12 [==============================] - 2s 189ms/step - loss: 8.7762e-04 - val_loss: 0.0207\n",
            "Epoch 4/100\n",
            "12/12 [==============================] - 2s 196ms/step - loss: 5.2618e-04 - val_loss: 0.0214\n",
            "Epoch 5/100\n",
            "12/12 [==============================] - 2s 195ms/step - loss: 5.1426e-04 - val_loss: 0.0206\n",
            "Epoch 6/100\n",
            "12/12 [==============================] - 2s 196ms/step - loss: 4.6374e-04 - val_loss: 0.0192\n",
            "Epoch 7/100\n",
            "12/12 [==============================] - 2s 193ms/step - loss: 4.2357e-04 - val_loss: 0.0192\n",
            "Epoch 8/100\n",
            "12/12 [==============================] - 2s 194ms/step - loss: 4.2301e-04 - val_loss: 0.0185\n",
            "Epoch 9/100\n",
            "12/12 [==============================] - 2s 197ms/step - loss: 3.8621e-04 - val_loss: 0.0178\n",
            "Epoch 10/100\n",
            "12/12 [==============================] - 2s 195ms/step - loss: 3.6372e-04 - val_loss: 0.0172\n",
            "Epoch 11/100\n",
            "12/12 [==============================] - 2s 194ms/step - loss: 3.5140e-04 - val_loss: 0.0172\n",
            "Epoch 12/100\n",
            "12/12 [==============================] - 2s 197ms/step - loss: 3.2123e-04 - val_loss: 0.0169\n",
            "Epoch 13/100\n",
            "12/12 [==============================] - 2s 196ms/step - loss: 3.5918e-04 - val_loss: 0.0181\n",
            "Epoch 14/100\n",
            "12/12 [==============================] - 2s 197ms/step - loss: 3.2403e-04 - val_loss: 0.0179\n",
            "Epoch 15/100\n",
            "12/12 [==============================] - 2s 199ms/step - loss: 3.3323e-04 - val_loss: 0.0168\n",
            "Epoch 16/100\n",
            "12/12 [==============================] - 2s 196ms/step - loss: 3.1654e-04 - val_loss: 0.0179\n",
            "Epoch 17/100\n",
            "12/12 [==============================] - 2s 197ms/step - loss: 3.0487e-04 - val_loss: 0.0187\n",
            "Epoch 18/100\n",
            "12/12 [==============================] - 2s 198ms/step - loss: 3.1318e-04 - val_loss: 0.0166\n",
            "Epoch 19/100\n",
            "12/12 [==============================] - 2s 195ms/step - loss: 2.7679e-04 - val_loss: 0.0184\n",
            "Epoch 20/100\n",
            "12/12 [==============================] - 2s 197ms/step - loss: 2.7133e-04 - val_loss: 0.0165\n",
            "Epoch 21/100\n",
            "12/12 [==============================] - 2s 198ms/step - loss: 3.0759e-04 - val_loss: 0.0179\n",
            "Epoch 22/100\n",
            "12/12 [==============================] - 2s 198ms/step - loss: 2.7560e-04 - val_loss: 0.0166\n",
            "Epoch 23/100\n",
            "12/12 [==============================] - 2s 197ms/step - loss: 2.4010e-04 - val_loss: 0.0168\n",
            "Epoch 24/100\n",
            "12/12 [==============================] - 2s 198ms/step - loss: 2.4086e-04 - val_loss: 0.0176\n",
            "Epoch 25/100\n",
            "12/12 [==============================] - 2s 203ms/step - loss: 2.4412e-04 - val_loss: 0.0168\n",
            "Epoch 26/100\n",
            "12/12 [==============================] - 2s 197ms/step - loss: 2.4051e-04 - val_loss: 0.0182\n",
            "Epoch 27/100\n",
            "12/12 [==============================] - 2s 199ms/step - loss: 2.3364e-04 - val_loss: 0.0174\n",
            "Epoch 28/100\n",
            "12/12 [==============================] - 2s 200ms/step - loss: 2.4319e-04 - val_loss: 0.0187\n",
            "Epoch 29/100\n",
            "12/12 [==============================] - 2s 195ms/step - loss: 2.9483e-04 - val_loss: 0.0159\n",
            "Epoch 30/100\n",
            "12/12 [==============================] - 2s 196ms/step - loss: 2.3365e-04 - val_loss: 0.0172\n",
            "Epoch 31/100\n",
            "12/12 [==============================] - 2s 199ms/step - loss: 2.1516e-04 - val_loss: 0.0179\n",
            "Epoch 32/100\n",
            "12/12 [==============================] - 2s 196ms/step - loss: 2.1610e-04 - val_loss: 0.0179\n",
            "Epoch 33/100\n",
            "12/12 [==============================] - 2s 197ms/step - loss: 2.1536e-04 - val_loss: 0.0176\n",
            "Epoch 34/100\n",
            "12/12 [==============================] - 2s 197ms/step - loss: 2.1542e-04 - val_loss: 0.0192\n",
            "Epoch 35/100\n",
            "12/12 [==============================] - 2s 199ms/step - loss: 2.3709e-04 - val_loss: 0.0167\n",
            "Epoch 36/100\n",
            "12/12 [==============================] - 2s 198ms/step - loss: 2.1363e-04 - val_loss: 0.0171\n",
            "Epoch 37/100\n",
            "12/12 [==============================] - 2s 199ms/step - loss: 2.1703e-04 - val_loss: 0.0192\n",
            "Epoch 38/100\n",
            "12/12 [==============================] - 2s 199ms/step - loss: 2.2728e-04 - val_loss: 0.0168\n",
            "Epoch 39/100\n",
            "12/12 [==============================] - 2s 195ms/step - loss: 2.2773e-04 - val_loss: 0.0174\n",
            "Epoch 40/100\n",
            "12/12 [==============================] - 2s 198ms/step - loss: 2.1347e-04 - val_loss: 0.0192\n",
            "Epoch 41/100\n",
            "12/12 [==============================] - 2s 195ms/step - loss: 2.0820e-04 - val_loss: 0.0186\n",
            "Epoch 42/100\n",
            "12/12 [==============================] - 2s 196ms/step - loss: 2.0610e-04 - val_loss: 0.0170\n",
            "Epoch 43/100\n",
            "12/12 [==============================] - 2s 195ms/step - loss: 2.2081e-04 - val_loss: 0.0217\n",
            "Epoch 44/100\n",
            "12/12 [==============================] - 2s 203ms/step - loss: 2.2762e-04 - val_loss: 0.0159\n",
            "Epoch 45/100\n",
            "12/12 [==============================] - 2s 198ms/step - loss: 2.1189e-04 - val_loss: 0.0192\n",
            "Epoch 46/100\n",
            "12/12 [==============================] - 2s 207ms/step - loss: 1.8487e-04 - val_loss: 0.0187\n",
            "Epoch 47/100\n",
            "12/12 [==============================] - 2s 199ms/step - loss: 1.8191e-04 - val_loss: 0.0188\n",
            "Epoch 48/100\n",
            "12/12 [==============================] - 2s 199ms/step - loss: 1.8006e-04 - val_loss: 0.0199\n",
            "Epoch 49/100\n",
            "12/12 [==============================] - 2s 199ms/step - loss: 1.9030e-04 - val_loss: 0.0175\n",
            "Epoch 50/100\n",
            "12/12 [==============================] - 2s 196ms/step - loss: 1.8450e-04 - val_loss: 0.0206\n",
            "Epoch 51/100\n",
            "12/12 [==============================] - 2s 198ms/step - loss: 1.9803e-04 - val_loss: 0.0194\n",
            "Epoch 52/100\n",
            "12/12 [==============================] - 2s 198ms/step - loss: 2.2499e-04 - val_loss: 0.0141\n",
            "Epoch 53/100\n",
            "12/12 [==============================] - 2s 200ms/step - loss: 2.1413e-04 - val_loss: 0.0188\n",
            "Epoch 54/100\n",
            "12/12 [==============================] - 2s 197ms/step - loss: 1.9955e-04 - val_loss: 0.0133\n",
            "Epoch 55/100\n",
            "12/12 [==============================] - 2s 197ms/step - loss: 2.5974e-04 - val_loss: 0.0187\n",
            "Epoch 56/100\n",
            "12/12 [==============================] - 2s 200ms/step - loss: 2.0396e-04 - val_loss: 0.0161\n",
            "Epoch 57/100\n",
            "12/12 [==============================] - 2s 199ms/step - loss: 1.7683e-04 - val_loss: 0.0160\n",
            "Epoch 58/100\n",
            "12/12 [==============================] - 2s 202ms/step - loss: 1.6848e-04 - val_loss: 0.0171\n",
            "Epoch 59/100\n",
            "12/12 [==============================] - 2s 198ms/step - loss: 1.6872e-04 - val_loss: 0.0173\n",
            "Epoch 60/100\n",
            "12/12 [==============================] - 2s 196ms/step - loss: 1.6101e-04 - val_loss: 0.0171\n",
            "Epoch 61/100\n",
            "12/12 [==============================] - 2s 199ms/step - loss: 1.6714e-04 - val_loss: 0.0159\n",
            "Epoch 62/100\n",
            "12/12 [==============================] - 2s 200ms/step - loss: 1.6432e-04 - val_loss: 0.0160\n",
            "Epoch 63/100\n",
            "12/12 [==============================] - 2s 198ms/step - loss: 1.5425e-04 - val_loss: 0.0155\n",
            "Epoch 64/100\n",
            "12/12 [==============================] - 2s 199ms/step - loss: 1.8626e-04 - val_loss: 0.0162\n",
            "Epoch 65/100\n",
            "12/12 [==============================] - 2s 202ms/step - loss: 1.6548e-04 - val_loss: 0.0182\n",
            "Epoch 66/100\n",
            "12/12 [==============================] - 2s 202ms/step - loss: 1.5341e-04 - val_loss: 0.0161\n",
            "Epoch 67/100\n",
            "12/12 [==============================] - 2s 205ms/step - loss: 1.5142e-04 - val_loss: 0.0185\n",
            "Epoch 68/100\n",
            "12/12 [==============================] - 2s 207ms/step - loss: 1.5556e-04 - val_loss: 0.0141\n",
            "Epoch 69/100\n",
            "12/12 [==============================] - 2s 209ms/step - loss: 1.5603e-04 - val_loss: 0.0148\n",
            "Epoch 70/100\n",
            "12/12 [==============================] - 2s 200ms/step - loss: 1.5666e-04 - val_loss: 0.0156\n",
            "Epoch 71/100\n",
            "12/12 [==============================] - 2s 199ms/step - loss: 1.6641e-04 - val_loss: 0.0142\n",
            "Epoch 72/100\n",
            "12/12 [==============================] - 2s 197ms/step - loss: 1.5346e-04 - val_loss: 0.0163\n",
            "Epoch 73/100\n",
            "12/12 [==============================] - 2s 198ms/step - loss: 1.3906e-04 - val_loss: 0.0155\n",
            "Epoch 74/100\n",
            "12/12 [==============================] - 2s 200ms/step - loss: 1.4174e-04 - val_loss: 0.0134\n",
            "Epoch 75/100\n",
            "12/12 [==============================] - 2s 195ms/step - loss: 1.3557e-04 - val_loss: 0.0122\n",
            "Epoch 76/100\n",
            "12/12 [==============================] - 2s 197ms/step - loss: 1.3650e-04 - val_loss: 0.0118\n",
            "Epoch 77/100\n",
            "12/12 [==============================] - 2s 196ms/step - loss: 1.3905e-04 - val_loss: 0.0141\n",
            "Epoch 78/100\n",
            "12/12 [==============================] - 2s 203ms/step - loss: 1.3081e-04 - val_loss: 0.0130\n",
            "Epoch 79/100\n",
            "12/12 [==============================] - 2s 198ms/step - loss: 1.3719e-04 - val_loss: 0.0119\n",
            "Epoch 80/100\n",
            "12/12 [==============================] - 2s 201ms/step - loss: 1.4647e-04 - val_loss: 0.0116\n",
            "Epoch 81/100\n",
            "12/12 [==============================] - 2s 203ms/step - loss: 1.3580e-04 - val_loss: 0.0122\n",
            "Epoch 82/100\n",
            "12/12 [==============================] - 2s 204ms/step - loss: 1.3892e-04 - val_loss: 0.0109\n",
            "Epoch 83/100\n",
            "12/12 [==============================] - 2s 201ms/step - loss: 1.4129e-04 - val_loss: 0.0097\n",
            "Epoch 84/100\n",
            "12/12 [==============================] - 2s 204ms/step - loss: 1.3701e-04 - val_loss: 0.0111\n",
            "Epoch 85/100\n",
            "12/12 [==============================] - 2s 204ms/step - loss: 1.2926e-04 - val_loss: 0.0116\n",
            "Epoch 86/100\n",
            "12/12 [==============================] - 2s 204ms/step - loss: 1.2750e-04 - val_loss: 0.0099\n",
            "Epoch 87/100\n",
            "12/12 [==============================] - 2s 198ms/step - loss: 1.2356e-04 - val_loss: 0.0096\n",
            "Epoch 88/100\n",
            "12/12 [==============================] - 2s 199ms/step - loss: 1.4662e-04 - val_loss: 0.0105\n",
            "Epoch 89/100\n",
            "12/12 [==============================] - 2s 202ms/step - loss: 1.3944e-04 - val_loss: 0.0098\n",
            "Epoch 90/100\n",
            "12/12 [==============================] - 2s 200ms/step - loss: 1.2250e-04 - val_loss: 0.0096\n",
            "Epoch 91/100\n",
            "12/12 [==============================] - 2s 198ms/step - loss: 1.3334e-04 - val_loss: 0.0107\n",
            "Epoch 92/100\n",
            "12/12 [==============================] - 2s 198ms/step - loss: 1.1934e-04 - val_loss: 0.0095\n",
            "Epoch 93/100\n",
            "12/12 [==============================] - 2s 202ms/step - loss: 1.3028e-04 - val_loss: 0.0098\n",
            "Epoch 94/100\n",
            "12/12 [==============================] - 2s 197ms/step - loss: 1.2219e-04 - val_loss: 0.0116\n",
            "Epoch 95/100\n",
            "12/12 [==============================] - 2s 197ms/step - loss: 1.6166e-04 - val_loss: 0.0110\n",
            "Epoch 96/100\n",
            "12/12 [==============================] - 2s 200ms/step - loss: 1.3574e-04 - val_loss: 0.0091\n",
            "Epoch 97/100\n",
            "12/12 [==============================] - 2s 202ms/step - loss: 1.1794e-04 - val_loss: 0.0097\n",
            "Epoch 98/100\n",
            "12/12 [==============================] - 2s 199ms/step - loss: 1.1524e-04 - val_loss: 0.0094\n",
            "Epoch 99/100\n",
            "12/12 [==============================] - 2s 204ms/step - loss: 1.1544e-04 - val_loss: 0.0093\n",
            "Epoch 100/100\n",
            "12/12 [==============================] - 2s 202ms/step - loss: 1.1821e-04 - val_loss: 0.0078\n"
          ],
          "name": "stdout"
        },
        {
          "output_type": "execute_result",
          "data": {
            "text/plain": [
              "<tensorflow.python.keras.callbacks.History at 0x7ff7fb6a4350>"
            ]
          },
          "metadata": {
            "tags": []
          },
          "execution_count": 29
        }
      ]
    },
    {
      "cell_type": "code",
      "metadata": {
        "id": "5F3qrSNqdKb0"
      },
      "source": [
        "import tensorflow as tf"
      ],
      "execution_count": null,
      "outputs": []
    },
    {
      "cell_type": "code",
      "metadata": {
        "id": "zx6PLusqdKb0",
        "colab": {
          "base_uri": "https://localhost:8080/",
          "height": 36
        },
        "outputId": "53a36080-f834-4b42-fdb8-7a3bcddce4a3"
      },
      "source": [
        "tf.__version__"
      ],
      "execution_count": null,
      "outputs": [
        {
          "output_type": "execute_result",
          "data": {
            "application/vnd.google.colaboratory.intrinsic+json": {
              "type": "string"
            },
            "text/plain": [
              "'2.5.0'"
            ]
          },
          "metadata": {
            "tags": []
          },
          "execution_count": 31
        }
      ]
    },
    {
      "cell_type": "code",
      "metadata": {
        "id": "rqxu8orrdKb0"
      },
      "source": [
        "### Lets Do the prediction and check performance metrics\n",
        "train_predict=model.predict(X_train)\n",
        "test_predict=model.predict(X_test)"
      ],
      "execution_count": null,
      "outputs": []
    },
    {
      "cell_type": "code",
      "metadata": {
        "id": "HnrzEWXfdKb1"
      },
      "source": [
        "##Transformback to original form\n",
        "train_predict=scaler.inverse_transform(train_predict)\n",
        "test_predict=scaler.inverse_transform(test_predict)"
      ],
      "execution_count": null,
      "outputs": []
    },
    {
      "cell_type": "code",
      "metadata": {
        "id": "GcoFAFa_dKb1",
        "colab": {
          "base_uri": "https://localhost:8080/"
        },
        "outputId": "9d59d358-9703-48ae-ac99-2fe59f8b7096"
      },
      "source": [
        "### Calculate RMSE performance metrics\n",
        "import math\n",
        "from sklearn.metrics import mean_squared_error\n",
        "math.sqrt(mean_squared_error(y_train,train_predict))"
      ],
      "execution_count": null,
      "outputs": [
        {
          "output_type": "execute_result",
          "data": {
            "text/plain": [
              "179.46207082122885"
            ]
          },
          "metadata": {
            "tags": []
          },
          "execution_count": 34
        }
      ]
    },
    {
      "cell_type": "code",
      "metadata": {
        "id": "GLVmvkSFdKb1",
        "colab": {
          "base_uri": "https://localhost:8080/"
        },
        "outputId": "25fe6da1-0ea1-43e9-c44d-8fd2d0e3a504"
      },
      "source": [
        "### Test Data RMSE\n",
        "math.sqrt(mean_squared_error(ytest,test_predict))"
      ],
      "execution_count": null,
      "outputs": [
        {
          "output_type": "execute_result",
          "data": {
            "text/plain": [
              "234.1668590122193"
            ]
          },
          "metadata": {
            "tags": []
          },
          "execution_count": 35
        }
      ]
    },
    {
      "cell_type": "code",
      "metadata": {
        "id": "Lr1glU_pdKb1",
        "colab": {
          "base_uri": "https://localhost:8080/",
          "height": 265
        },
        "outputId": "a43e4a70-bfad-48f4-9db8-a1e59b711f16"
      },
      "source": [
        "### Plotting \n",
        "# shift train predictions for plotting\n",
        "look_back=100\n",
        "trainPredictPlot = numpy.empty_like(df1)\n",
        "trainPredictPlot[:, :] = np.nan\n",
        "trainPredictPlot[look_back:len(train_predict)+look_back, :] = train_predict\n",
        "# shift test predictions for plotting\n",
        "testPredictPlot = numpy.empty_like(df1)\n",
        "testPredictPlot[:, :] = numpy.nan\n",
        "testPredictPlot[len(train_predict)+(look_back*2)+1:len(df1)-1, :] = test_predict\n",
        "# plot baseline and predictions\n",
        "plt.plot(scaler.inverse_transform(df1))\n",
        "plt.plot(trainPredictPlot)\n",
        "plt.plot(testPredictPlot)\n",
        "plt.show()"
      ],
      "execution_count": null,
      "outputs": [
        {
          "output_type": "display_data",
          "data": {
            "image/png": "[encoded data removed]",
            "text/plain": [
              "<Figure size 432x288 with 1 Axes>"
            ]
          },
          "metadata": {
            "tags": [],
            "needs_background": "light"
          }
        }
      ]
    },
    {
      "cell_type": "code",
      "metadata": {
        "id": "-vrCG8bfdKb2",
        "colab": {
          "base_uri": "https://localhost:8080/"
        },
        "outputId": "ab699b4e-0c4b-4731-9839-b9289d6667cc"
      },
      "source": [
        "len(test_data)"
      ],
      "execution_count": null,
      "outputs": [
        {
          "output_type": "execute_result",
          "data": {
            "text/plain": [
              "440"
            ]
          },
          "metadata": {
            "tags": []
          },
          "execution_count": 37
        }
      ]
    },
    {
      "cell_type": "code",
      "metadata": {
        "id": "D94zJPbbdKb2",
        "colab": {
          "base_uri": "https://localhost:8080/"
        },
        "outputId": "2e26d921-15db-4b9f-e1ad-4fb482953132"
      },
      "source": [
        "x_input=test_data[340:].reshape(1,-1)\n",
        "x_input.shape\n"
      ],
      "execution_count": null,
      "outputs": [
        {
          "output_type": "execute_result",
          "data": {
            "text/plain": [
              "(1, 100)"
            ]
          },
          "metadata": {
            "tags": []
          },
          "execution_count": 38
        }
      ]
    },
    {
      "cell_type": "code",
      "metadata": {
        "id": "sjpH_aKBdKb2"
      },
      "source": [
        ""
      ],
      "execution_count": null,
      "outputs": []
    },
    {
      "cell_type": "code",
      "metadata": {
        "id": "xPtJWDCZdKb2"
      },
      "source": [
        ""
      ],
      "execution_count": null,
      "outputs": []
    },
    {
      "cell_type": "code",
      "metadata": {
        "id": "wkJjindddKb2"
      },
      "source": [
        "temp_input=list(x_input)\n",
        "temp_input=temp_input[0].tolist()"
      ],
      "execution_count": null,
      "outputs": []
    },
    {
      "cell_type": "code",
      "metadata": {
        "id": "Dr0DRAvOdKb3",
        "colab": {
          "base_uri": "https://localhost:8080/"
        },
        "outputId": "58e310ce-715f-49a8-f8ca-b9822a90bf01"
      },
      "source": [
        "temp_input"
      ],
      "execution_count": null,
      "outputs": [
        {
          "output_type": "execute_result",
          "data": {
            "text/plain": [
              "[0.04318046456223945,\n",
              " 0.04184038117927341,\n",
              " 0.05027794322017076,\n",
              " 0.048168552709946466,\n",
              " 0.0420885447687116,\n",
              " 0.043329362715902375,\n",
              " 0.044867976970418944,\n",
              " 0.045314671431407605,\n",
              " 0.04161703394877908,\n",
              " 0.047200714711137626,\n",
              " 0.04931010522136198,\n",
              " 0.05650684931506855,\n",
              " 0.05727615644232681,\n",
              " 0.06147012110383171,\n",
              " 0.06757494540401038,\n",
              " 0.0741140559857058,\n",
              " 0.06975878499106619,\n",
              " 0.07767520349414342,\n",
              " 0.07171927734762762,\n",
              " 0.07784891800675009,\n",
              " 0.07700516180266037,\n",
              " 0.07869267421083981,\n",
              " 0.07439944411355975,\n",
              " 0.07536728211236854,\n",
              " 0.07149593011713323,\n",
              " 0.07740222354576137,\n",
              " 0.07839487790351402,\n",
              " 0.0775759380583681,\n",
              " 0.07556581298391907,\n",
              " 0.07531764939448088,\n",
              " 0.07030474488783012,\n",
              " 0.0729849116537622,\n",
              " 0.06134603930911259,\n",
              " 0.061966448282707975,\n",
              " 0.06603633114949381,\n",
              " 0.06720270001985312,\n",
              " 0.05886440341473104,\n",
              " 0.056531665674012355,\n",
              " 0.048739328965654194,\n",
              " 0.05419892793329367,\n",
              " 0.06035338495136,\n",
              " 0.05742505459598973,\n",
              " 0.05390113162596788,\n",
              " 0.05350406988286682,\n",
              " 0.06000595592614655,\n",
              " 0.055340480444709184,\n",
              " 0.059484812388326425,\n",
              " 0.0589884852094501,\n",
              " 0.05886440341473104,\n",
              " 0.054968235060551984,\n",
              " 0.053305539011316294,\n",
              " 0.05248659916617038,\n",
              " 0.054422275163788,\n",
              " 0.05065018860432802,\n",
              " 0.056482032956124695,\n",
              " 0.05650684931506855,\n",
              " 0.058591423466349046,\n",
              " 0.05955926146515789,\n",
              " 0.057027992852888676,\n",
              " 0.06010522136192181,\n",
              " 0.06787274171133612,\n",
              " 0.06578816756005562,\n",
              " 0.06705380186619025,\n",
              " 0.07112368473297598,\n",
              " 0.06782310899344857,\n",
              " 0.07238931903911067,\n",
              " 0.07655846734167165,\n",
              " 0.0758636092912448,\n",
              " 0.07514393488187415,\n",
              " 0.07439944411355975,\n",
              " 0.07854377605717694,\n",
              " 0.08239031169346839,\n",
              " 0.08395374230692881,\n",
              " 0.08472304943418707,\n",
              " 0.09139864999007352,\n",
              " 0.09651081993249955,\n",
              " 0.10283899146317255,\n",
              " 0.09953841572364508,\n",
              " 0.10417907484613864,\n",
              " 0.10266527695056588,\n",
              " 0.10549434187016082,\n",
              " 0.11420488385944022,\n",
              " 0.11254218781020453,\n",
              " 0.10735556879094699,\n",
              " 0.0975779233670836,\n",
              " 0.10675997617629546,\n",
              " 0.1048987492555093,\n",
              " 0.10837303950764349,\n",
              " 0.11274071868175506,\n",
              " 0.11380782211633916,\n",
              " 0.10829859043081208,\n",
              " 0.10385646217986899,\n",
              " 0.10549434187016082,\n",
              " 0.1060403017669248,\n",
              " 0.10519654556283509,\n",
              " 0.10976275560849719,\n",
              " 0.10874528489180069,\n",
              " 0.10901826484018268,\n",
              " 0.1067351598173516,\n",
              " 0.10661107802263259]"
            ]
          },
          "metadata": {
            "tags": []
          },
          "execution_count": 40
        }
      ]
    },
    {
      "cell_type": "code",
      "metadata": {
        "id": "ibdGT4M-dKb3",
        "colab": {
          "base_uri": "https://localhost:8080/"
        },
        "outputId": "f2e28eb0-bff1-4d8e-87fc-a81c3e095f57"
      },
      "source": [
        "# demonstrate prediction for next 10 days\n",
        "from numpy import array\n",
        "\n",
        "lst_output=[]\n",
        "n_steps=100\n",
        "i=0\n",
        "while(i<30):\n",
        "    \n",
        "    if(len(temp_input)>100):\n",
        "        #print(temp_input)\n",
        "        x_input=np.array(temp_input[1:])\n",
        "        print(\"{} day input {}\".format(i,x_input))\n",
        "        x_input=x_input.reshape(1,-1)\n",
        "        x_input = x_input.reshape((1, n_steps, 1))\n",
        "        #print(x_input)\n",
        "        yhat = model.predict(x_input, verbose=0)\n",
        "        print(\"{} day output {}\".format(i,yhat))\n",
        "        temp_input.extend(yhat[0].tolist())\n",
        "        temp_input=temp_input[1:]\n",
        "        #print(temp_input)\n",
        "        lst_output.extend(yhat.tolist())\n",
        "        i=i+1\n",
        "    else:\n",
        "        x_input = x_input.reshape((1, n_steps,1))\n",
        "        yhat = model.predict(x_input, verbose=0)\n",
        "        print(yhat[0])\n",
        "        temp_input.extend(yhat[0].tolist())\n",
        "        print(len(temp_input))\n",
        "        lst_output.extend(yhat.tolist())\n",
        "        i=i+1\n",
        "    \n",
        "\n",
        "print(lst_output)"
      ],
      "execution_count": null,
      "outputs": [
        {
          "output_type": "stream",
          "text": [
            "[0.10952107]\n",
            "101\n",
            "1 day input [0.04184038 0.05027794 0.04816855 0.04208854 0.04332936 0.04486798\n",
            " 0.04531467 0.04161703 0.04720071 0.04931011 0.05650685 0.05727616\n",
            " 0.06147012 0.06757495 0.07411406 0.06975878 0.0776752  0.07171928\n",
            " 0.07784892 0.07700516 0.07869267 0.07439944 0.07536728 0.07149593\n",
            " 0.07740222 0.07839488 0.07757594 0.07556581 0.07531765 0.07030474\n",
            " 0.07298491 0.06134604 0.06196645 0.06603633 0.0672027  0.0588644\n",
            " 0.05653167 0.04873933 0.05419893 0.06035338 0.05742505 0.05390113\n",
            " 0.05350407 0.06000596 0.05534048 0.05948481 0.05898849 0.0588644\n",
            " 0.05496824 0.05330554 0.0524866  0.05442228 0.05065019 0.05648203\n",
            " 0.05650685 0.05859142 0.05955926 0.05702799 0.06010522 0.06787274\n",
            " 0.06578817 0.0670538  0.07112368 0.06782311 0.07238932 0.07655847\n",
            " 0.07586361 0.07514393 0.07439944 0.07854378 0.08239031 0.08395374\n",
            " 0.08472305 0.09139865 0.09651082 0.10283899 0.09953842 0.10417907\n",
            " 0.10266528 0.10549434 0.11420488 0.11254219 0.10735557 0.09757792\n",
            " 0.10675998 0.10489875 0.10837304 0.11274072 0.11380782 0.10829859\n",
            " 0.10385646 0.10549434 0.1060403  0.10519655 0.10976276 0.10874528\n",
            " 0.10901826 0.10673516 0.10661108 0.10952107]\n",
            "1 day output [[0.10979404]]\n",
            "2 day input [0.05027794 0.04816855 0.04208854 0.04332936 0.04486798 0.04531467\n",
            " 0.04161703 0.04720071 0.04931011 0.05650685 0.05727616 0.06147012\n",
            " 0.06757495 0.07411406 0.06975878 0.0776752  0.07171928 0.07784892\n",
            " 0.07700516 0.07869267 0.07439944 0.07536728 0.07149593 0.07740222\n",
            " 0.07839488 0.07757594 0.07556581 0.07531765 0.07030474 0.07298491\n",
            " 0.06134604 0.06196645 0.06603633 0.0672027  0.0588644  0.05653167\n",
            " 0.04873933 0.05419893 0.06035338 0.05742505 0.05390113 0.05350407\n",
            " 0.06000596 0.05534048 0.05948481 0.05898849 0.0588644  0.05496824\n",
            " 0.05330554 0.0524866  0.05442228 0.05065019 0.05648203 0.05650685\n",
            " 0.05859142 0.05955926 0.05702799 0.06010522 0.06787274 0.06578817\n",
            " 0.0670538  0.07112368 0.06782311 0.07238932 0.07655847 0.07586361\n",
            " 0.07514393 0.07439944 0.07854378 0.08239031 0.08395374 0.08472305\n",
            " 0.09139865 0.09651082 0.10283899 0.09953842 0.10417907 0.10266528\n",
            " 0.10549434 0.11420488 0.11254219 0.10735557 0.09757792 0.10675998\n",
            " 0.10489875 0.10837304 0.11274072 0.11380782 0.10829859 0.10385646\n",
            " 0.10549434 0.1060403  0.10519655 0.10976276 0.10874528 0.10901826\n",
            " 0.10673516 0.10661108 0.10952107 0.10979404]\n",
            "2 day output [[0.11017466]]\n",
            "3 day input [0.04816855 0.04208854 0.04332936 0.04486798 0.04531467 0.04161703\n",
            " 0.04720071 0.04931011 0.05650685 0.05727616 0.06147012 0.06757495\n",
            " 0.07411406 0.06975878 0.0776752  0.07171928 0.07784892 0.07700516\n",
            " 0.07869267 0.07439944 0.07536728 0.07149593 0.07740222 0.07839488\n",
            " 0.07757594 0.07556581 0.07531765 0.07030474 0.07298491 0.06134604\n",
            " 0.06196645 0.06603633 0.0672027  0.0588644  0.05653167 0.04873933\n",
            " 0.05419893 0.06035338 0.05742505 0.05390113 0.05350407 0.06000596\n",
            " 0.05534048 0.05948481 0.05898849 0.0588644  0.05496824 0.05330554\n",
            " 0.0524866  0.05442228 0.05065019 0.05648203 0.05650685 0.05859142\n",
            " 0.05955926 0.05702799 0.06010522 0.06787274 0.06578817 0.0670538\n",
            " 0.07112368 0.06782311 0.07238932 0.07655847 0.07586361 0.07514393\n",
            " 0.07439944 0.07854378 0.08239031 0.08395374 0.08472305 0.09139865\n",
            " 0.09651082 0.10283899 0.09953842 0.10417907 0.10266528 0.10549434\n",
            " 0.11420488 0.11254219 0.10735557 0.09757792 0.10675998 0.10489875\n",
            " 0.10837304 0.11274072 0.11380782 0.10829859 0.10385646 0.10549434\n",
            " 0.1060403  0.10519655 0.10976276 0.10874528 0.10901826 0.10673516\n",
            " 0.10661108 0.10952107 0.10979404 0.11017466]\n",
            "3 day output [[0.11064865]]\n",
            "4 day input [0.04208854 0.04332936 0.04486798 0.04531467 0.04161703 0.04720071\n",
            " 0.04931011 0.05650685 0.05727616 0.06147012 0.06757495 0.07411406\n",
            " 0.06975878 0.0776752  0.07171928 0.07784892 0.07700516 0.07869267\n",
            " 0.07439944 0.07536728 0.07149593 0.07740222 0.07839488 0.07757594\n",
            " 0.07556581 0.07531765 0.07030474 0.07298491 0.06134604 0.06196645\n",
            " 0.06603633 0.0672027  0.0588644  0.05653167 0.04873933 0.05419893\n",
            " 0.06035338 0.05742505 0.05390113 0.05350407 0.06000596 0.05534048\n",
            " 0.05948481 0.05898849 0.0588644  0.05496824 0.05330554 0.0524866\n",
            " 0.05442228 0.05065019 0.05648203 0.05650685 0.05859142 0.05955926\n",
            " 0.05702799 0.06010522 0.06787274 0.06578817 0.0670538  0.07112368\n",
            " 0.06782311 0.07238932 0.07655847 0.07586361 0.07514393 0.07439944\n",
            " 0.07854378 0.08239031 0.08395374 0.08472305 0.09139865 0.09651082\n",
            " 0.10283899 0.09953842 0.10417907 0.10266528 0.10549434 0.11420488\n",
            " 0.11254219 0.10735557 0.09757792 0.10675998 0.10489875 0.10837304\n",
            " 0.11274072 0.11380782 0.10829859 0.10385646 0.10549434 0.1060403\n",
            " 0.10519655 0.10976276 0.10874528 0.10901826 0.10673516 0.10661108\n",
            " 0.10952107 0.10979404 0.11017466 0.11064865]\n",
            "4 day output [[0.11117841]]\n",
            "5 day input [0.04332936 0.04486798 0.04531467 0.04161703 0.04720071 0.04931011\n",
            " 0.05650685 0.05727616 0.06147012 0.06757495 0.07411406 0.06975878\n",
            " 0.0776752  0.07171928 0.07784892 0.07700516 0.07869267 0.07439944\n",
            " 0.07536728 0.07149593 0.07740222 0.07839488 0.07757594 0.07556581\n",
            " 0.07531765 0.07030474 0.07298491 0.06134604 0.06196645 0.06603633\n",
            " 0.0672027  0.0588644  0.05653167 0.04873933 0.05419893 0.06035338\n",
            " 0.05742505 0.05390113 0.05350407 0.06000596 0.05534048 0.05948481\n",
            " 0.05898849 0.0588644  0.05496824 0.05330554 0.0524866  0.05442228\n",
            " 0.05065019 0.05648203 0.05650685 0.05859142 0.05955926 0.05702799\n",
            " 0.06010522 0.06787274 0.06578817 0.0670538  0.07112368 0.06782311\n",
            " 0.07238932 0.07655847 0.07586361 0.07514393 0.07439944 0.07854378\n",
            " 0.08239031 0.08395374 0.08472305 0.09139865 0.09651082 0.10283899\n",
            " 0.09953842 0.10417907 0.10266528 0.10549434 0.11420488 0.11254219\n",
            " 0.10735557 0.09757792 0.10675998 0.10489875 0.10837304 0.11274072\n",
            " 0.11380782 0.10829859 0.10385646 0.10549434 0.1060403  0.10519655\n",
            " 0.10976276 0.10874528 0.10901826 0.10673516 0.10661108 0.10952107\n",
            " 0.10979404 0.11017466 0.11064865 0.11117841]\n",
            "5 day output [[0.111729]]\n",
            "6 day input [0.04486798 0.04531467 0.04161703 0.04720071 0.04931011 0.05650685\n",
            " 0.05727616 0.06147012 0.06757495 0.07411406 0.06975878 0.0776752\n",
            " 0.07171928 0.07784892 0.07700516 0.07869267 0.07439944 0.07536728\n",
            " 0.07149593 0.07740222 0.07839488 0.07757594 0.07556581 0.07531765\n",
            " 0.07030474 0.07298491 0.06134604 0.06196645 0.06603633 0.0672027\n",
            " 0.0588644  0.05653167 0.04873933 0.05419893 0.06035338 0.05742505\n",
            " 0.05390113 0.05350407 0.06000596 0.05534048 0.05948481 0.05898849\n",
            " 0.0588644  0.05496824 0.05330554 0.0524866  0.05442228 0.05065019\n",
            " 0.05648203 0.05650685 0.05859142 0.05955926 0.05702799 0.06010522\n",
            " 0.06787274 0.06578817 0.0670538  0.07112368 0.06782311 0.07238932\n",
            " 0.07655847 0.07586361 0.07514393 0.07439944 0.07854378 0.08239031\n",
            " 0.08395374 0.08472305 0.09139865 0.09651082 0.10283899 0.09953842\n",
            " 0.10417907 0.10266528 0.10549434 0.11420488 0.11254219 0.10735557\n",
            " 0.09757792 0.10675998 0.10489875 0.10837304 0.11274072 0.11380782\n",
            " 0.10829859 0.10385646 0.10549434 0.1060403  0.10519655 0.10976276\n",
            " 0.10874528 0.10901826 0.10673516 0.10661108 0.10952107 0.10979404\n",
            " 0.11017466 0.11064865 0.11117841 0.111729  ]\n",
            "6 day output [[0.11227647]]\n",
            "7 day input [0.04531467 0.04161703 0.04720071 0.04931011 0.05650685 0.05727616\n",
            " 0.06147012 0.06757495 0.07411406 0.06975878 0.0776752  0.07171928\n",
            " 0.07784892 0.07700516 0.07869267 0.07439944 0.07536728 0.07149593\n",
            " 0.07740222 0.07839488 0.07757594 0.07556581 0.07531765 0.07030474\n",
            " 0.07298491 0.06134604 0.06196645 0.06603633 0.0672027  0.0588644\n",
            " 0.05653167 0.04873933 0.05419893 0.06035338 0.05742505 0.05390113\n",
            " 0.05350407 0.06000596 0.05534048 0.05948481 0.05898849 0.0588644\n",
            " 0.05496824 0.05330554 0.0524866  0.05442228 0.05065019 0.05648203\n",
            " 0.05650685 0.05859142 0.05955926 0.05702799 0.06010522 0.06787274\n",
            " 0.06578817 0.0670538  0.07112368 0.06782311 0.07238932 0.07655847\n",
            " 0.07586361 0.07514393 0.07439944 0.07854378 0.08239031 0.08395374\n",
            " 0.08472305 0.09139865 0.09651082 0.10283899 0.09953842 0.10417907\n",
            " 0.10266528 0.10549434 0.11420488 0.11254219 0.10735557 0.09757792\n",
            " 0.10675998 0.10489875 0.10837304 0.11274072 0.11380782 0.10829859\n",
            " 0.10385646 0.10549434 0.1060403  0.10519655 0.10976276 0.10874528\n",
            " 0.10901826 0.10673516 0.10661108 0.10952107 0.10979404 0.11017466\n",
            " 0.11064865 0.11117841 0.111729   0.11227647]\n",
            "7 day output [[0.11280751]]\n",
            "8 day input [0.04161703 0.04720071 0.04931011 0.05650685 0.05727616 0.06147012\n",
            " 0.06757495 0.07411406 0.06975878 0.0776752  0.07171928 0.07784892\n",
            " 0.07700516 0.07869267 0.07439944 0.07536728 0.07149593 0.07740222\n",
            " 0.07839488 0.07757594 0.07556581 0.07531765 0.07030474 0.07298491\n",
            " 0.06134604 0.06196645 0.06603633 0.0672027  0.0588644  0.05653167\n",
            " 0.04873933 0.05419893 0.06035338 0.05742505 0.05390113 0.05350407\n",
            " 0.06000596 0.05534048 0.05948481 0.05898849 0.0588644  0.05496824\n",
            " 0.05330554 0.0524866  0.05442228 0.05065019 0.05648203 0.05650685\n",
            " 0.05859142 0.05955926 0.05702799 0.06010522 0.06787274 0.06578817\n",
            " 0.0670538  0.07112368 0.06782311 0.07238932 0.07655847 0.07586361\n",
            " 0.07514393 0.07439944 0.07854378 0.08239031 0.08395374 0.08472305\n",
            " 0.09139865 0.09651082 0.10283899 0.09953842 0.10417907 0.10266528\n",
            " 0.10549434 0.11420488 0.11254219 0.10735557 0.09757792 0.10675998\n",
            " 0.10489875 0.10837304 0.11274072 0.11380782 0.10829859 0.10385646\n",
            " 0.10549434 0.1060403  0.10519655 0.10976276 0.10874528 0.10901826\n",
            " 0.10673516 0.10661108 0.10952107 0.10979404 0.11017466 0.11064865\n",
            " 0.11117841 0.111729   0.11227647 0.11280751]\n",
            "8 day output [[0.11331654]]\n",
            "9 day input [0.04720071 0.04931011 0.05650685 0.05727616 0.06147012 0.06757495\n",
            " 0.07411406 0.06975878 0.0776752  0.07171928 0.07784892 0.07700516\n",
            " 0.07869267 0.07439944 0.07536728 0.07149593 0.07740222 0.07839488\n",
            " 0.07757594 0.07556581 0.07531765 0.07030474 0.07298491 0.06134604\n",
            " 0.06196645 0.06603633 0.0672027  0.0588644  0.05653167 0.04873933\n",
            " 0.05419893 0.06035338 0.05742505 0.05390113 0.05350407 0.06000596\n",
            " 0.05534048 0.05948481 0.05898849 0.0588644  0.05496824 0.05330554\n",
            " 0.0524866  0.05442228 0.05065019 0.05648203 0.05650685 0.05859142\n",
            " 0.05955926 0.05702799 0.06010522 0.06787274 0.06578817 0.0670538\n",
            " 0.07112368 0.06782311 0.07238932 0.07655847 0.07586361 0.07514393\n",
            " 0.07439944 0.07854378 0.08239031 0.08395374 0.08472305 0.09139865\n",
            " 0.09651082 0.10283899 0.09953842 0.10417907 0.10266528 0.10549434\n",
            " 0.11420488 0.11254219 0.10735557 0.09757792 0.10675998 0.10489875\n",
            " 0.10837304 0.11274072 0.11380782 0.10829859 0.10385646 0.10549434\n",
            " 0.1060403  0.10519655 0.10976276 0.10874528 0.10901826 0.10673516\n",
            " 0.10661108 0.10952107 0.10979404 0.11017466 0.11064865 0.11117841\n",
            " 0.111729   0.11227647 0.11280751 0.11331654]\n",
            "9 day output [[0.11380246]]\n",
            "10 day input [0.04931011 0.05650685 0.05727616 0.06147012 0.06757495 0.07411406\n",
            " 0.06975878 0.0776752  0.07171928 0.07784892 0.07700516 0.07869267\n",
            " 0.07439944 0.07536728 0.07149593 0.07740222 0.07839488 0.07757594\n",
            " 0.07556581 0.07531765 0.07030474 0.07298491 0.06134604 0.06196645\n",
            " 0.06603633 0.0672027  0.0588644  0.05653167 0.04873933 0.05419893\n",
            " 0.06035338 0.05742505 0.05390113 0.05350407 0.06000596 0.05534048\n",
            " 0.05948481 0.05898849 0.0588644  0.05496824 0.05330554 0.0524866\n",
            " 0.05442228 0.05065019 0.05648203 0.05650685 0.05859142 0.05955926\n",
            " 0.05702799 0.06010522 0.06787274 0.06578817 0.0670538  0.07112368\n",
            " 0.06782311 0.07238932 0.07655847 0.07586361 0.07514393 0.07439944\n",
            " 0.07854378 0.08239031 0.08395374 0.08472305 0.09139865 0.09651082\n",
            " 0.10283899 0.09953842 0.10417907 0.10266528 0.10549434 0.11420488\n",
            " 0.11254219 0.10735557 0.09757792 0.10675998 0.10489875 0.10837304\n",
            " 0.11274072 0.11380782 0.10829859 0.10385646 0.10549434 0.1060403\n",
            " 0.10519655 0.10976276 0.10874528 0.10901826 0.10673516 0.10661108\n",
            " 0.10952107 0.10979404 0.11017466 0.11064865 0.11117841 0.111729\n",
            " 0.11227647 0.11280751 0.11331654 0.11380246]\n",
            "10 day output [[0.11426659]]\n",
            "11 day input [0.05650685 0.05727616 0.06147012 0.06757495 0.07411406 0.06975878\n",
            " 0.0776752  0.07171928 0.07784892 0.07700516 0.07869267 0.07439944\n",
            " 0.07536728 0.07149593 0.07740222 0.07839488 0.07757594 0.07556581\n",
            " 0.07531765 0.07030474 0.07298491 0.06134604 0.06196645 0.06603633\n",
            " 0.0672027  0.0588644  0.05653167 0.04873933 0.05419893 0.06035338\n",
            " 0.05742505 0.05390113 0.05350407 0.06000596 0.05534048 0.05948481\n",
            " 0.05898849 0.0588644  0.05496824 0.05330554 0.0524866  0.05442228\n",
            " 0.05065019 0.05648203 0.05650685 0.05859142 0.05955926 0.05702799\n",
            " 0.06010522 0.06787274 0.06578817 0.0670538  0.07112368 0.06782311\n",
            " 0.07238932 0.07655847 0.07586361 0.07514393 0.07439944 0.07854378\n",
            " 0.08239031 0.08395374 0.08472305 0.09139865 0.09651082 0.10283899\n",
            " 0.09953842 0.10417907 0.10266528 0.10549434 0.11420488 0.11254219\n",
            " 0.10735557 0.09757792 0.10675998 0.10489875 0.10837304 0.11274072\n",
            " 0.11380782 0.10829859 0.10385646 0.10549434 0.1060403  0.10519655\n",
            " 0.10976276 0.10874528 0.10901826 0.10673516 0.10661108 0.10952107\n",
            " 0.10979404 0.11017466 0.11064865 0.11117841 0.111729   0.11227647\n",
            " 0.11280751 0.11331654 0.11380246 0.11426659]\n",
            "11 day output [[0.11471139]]\n",
            "12 day input [0.05727616 0.06147012 0.06757495 0.07411406 0.06975878 0.0776752\n",
            " 0.07171928 0.07784892 0.07700516 0.07869267 0.07439944 0.07536728\n",
            " 0.07149593 0.07740222 0.07839488 0.07757594 0.07556581 0.07531765\n",
            " 0.07030474 0.07298491 0.06134604 0.06196645 0.06603633 0.0672027\n",
            " 0.0588644  0.05653167 0.04873933 0.05419893 0.06035338 0.05742505\n",
            " 0.05390113 0.05350407 0.06000596 0.05534048 0.05948481 0.05898849\n",
            " 0.0588644  0.05496824 0.05330554 0.0524866  0.05442228 0.05065019\n",
            " 0.05648203 0.05650685 0.05859142 0.05955926 0.05702799 0.06010522\n",
            " 0.06787274 0.06578817 0.0670538  0.07112368 0.06782311 0.07238932\n",
            " 0.07655847 0.07586361 0.07514393 0.07439944 0.07854378 0.08239031\n",
            " 0.08395374 0.08472305 0.09139865 0.09651082 0.10283899 0.09953842\n",
            " 0.10417907 0.10266528 0.10549434 0.11420488 0.11254219 0.10735557\n",
            " 0.09757792 0.10675998 0.10489875 0.10837304 0.11274072 0.11380782\n",
            " 0.10829859 0.10385646 0.10549434 0.1060403  0.10519655 0.10976276\n",
            " 0.10874528 0.10901826 0.10673516 0.10661108 0.10952107 0.10979404\n",
            " 0.11017466 0.11064865 0.11117841 0.111729   0.11227647 0.11280751\n",
            " 0.11331654 0.11380246 0.11426659 0.11471139]\n",
            "12 day output [[0.11513955]]\n",
            "13 day input [0.06147012 0.06757495 0.07411406 0.06975878 0.0776752  0.07171928\n",
            " 0.07784892 0.07700516 0.07869267 0.07439944 0.07536728 0.07149593\n",
            " 0.07740222 0.07839488 0.07757594 0.07556581 0.07531765 0.07030474\n",
            " 0.07298491 0.06134604 0.06196645 0.06603633 0.0672027  0.0588644\n",
            " 0.05653167 0.04873933 0.05419893 0.06035338 0.05742505 0.05390113\n",
            " 0.05350407 0.06000596 0.05534048 0.05948481 0.05898849 0.0588644\n",
            " 0.05496824 0.05330554 0.0524866  0.05442228 0.05065019 0.05648203\n",
            " 0.05650685 0.05859142 0.05955926 0.05702799 0.06010522 0.06787274\n",
            " 0.06578817 0.0670538  0.07112368 0.06782311 0.07238932 0.07655847\n",
            " 0.07586361 0.07514393 0.07439944 0.07854378 0.08239031 0.08395374\n",
            " 0.08472305 0.09139865 0.09651082 0.10283899 0.09953842 0.10417907\n",
            " 0.10266528 0.10549434 0.11420488 0.11254219 0.10735557 0.09757792\n",
            " 0.10675998 0.10489875 0.10837304 0.11274072 0.11380782 0.10829859\n",
            " 0.10385646 0.10549434 0.1060403  0.10519655 0.10976276 0.10874528\n",
            " 0.10901826 0.10673516 0.10661108 0.10952107 0.10979404 0.11017466\n",
            " 0.11064865 0.11117841 0.111729   0.11227647 0.11280751 0.11331654\n",
            " 0.11380246 0.11426659 0.11471139 0.11513955]\n",
            "13 day output [[0.11555392]]\n",
            "14 day input [0.06757495 0.07411406 0.06975878 0.0776752  0.07171928 0.07784892\n",
            " 0.07700516 0.07869267 0.07439944 0.07536728 0.07149593 0.07740222\n",
            " 0.07839488 0.07757594 0.07556581 0.07531765 0.07030474 0.07298491\n",
            " 0.06134604 0.06196645 0.06603633 0.0672027  0.0588644  0.05653167\n",
            " 0.04873933 0.05419893 0.06035338 0.05742505 0.05390113 0.05350407\n",
            " 0.06000596 0.05534048 0.05948481 0.05898849 0.0588644  0.05496824\n",
            " 0.05330554 0.0524866  0.05442228 0.05065019 0.05648203 0.05650685\n",
            " 0.05859142 0.05955926 0.05702799 0.06010522 0.06787274 0.06578817\n",
            " 0.0670538  0.07112368 0.06782311 0.07238932 0.07655847 0.07586361\n",
            " 0.07514393 0.07439944 0.07854378 0.08239031 0.08395374 0.08472305\n",
            " 0.09139865 0.09651082 0.10283899 0.09953842 0.10417907 0.10266528\n",
            " 0.10549434 0.11420488 0.11254219 0.10735557 0.09757792 0.10675998\n",
            " 0.10489875 0.10837304 0.11274072 0.11380782 0.10829859 0.10385646\n",
            " 0.10549434 0.1060403  0.10519655 0.10976276 0.10874528 0.10901826\n",
            " 0.10673516 0.10661108 0.10952107 0.10979404 0.11017466 0.11064865\n",
            " 0.11117841 0.111729   0.11227647 0.11280751 0.11331654 0.11380246\n",
            " 0.11426659 0.11471139 0.11513955 0.11555392]\n",
            "14 day output [[0.11595723]]\n",
            "15 day input [0.07411406 0.06975878 0.0776752  0.07171928 0.07784892 0.07700516\n",
            " 0.07869267 0.07439944 0.07536728 0.07149593 0.07740222 0.07839488\n",
            " 0.07757594 0.07556581 0.07531765 0.07030474 0.07298491 0.06134604\n",
            " 0.06196645 0.06603633 0.0672027  0.0588644  0.05653167 0.04873933\n",
            " 0.05419893 0.06035338 0.05742505 0.05390113 0.05350407 0.06000596\n",
            " 0.05534048 0.05948481 0.05898849 0.0588644  0.05496824 0.05330554\n",
            " 0.0524866  0.05442228 0.05065019 0.05648203 0.05650685 0.05859142\n",
            " 0.05955926 0.05702799 0.06010522 0.06787274 0.06578817 0.0670538\n",
            " 0.07112368 0.06782311 0.07238932 0.07655847 0.07586361 0.07514393\n",
            " 0.07439944 0.07854378 0.08239031 0.08395374 0.08472305 0.09139865\n",
            " 0.09651082 0.10283899 0.09953842 0.10417907 0.10266528 0.10549434\n",
            " 0.11420488 0.11254219 0.10735557 0.09757792 0.10675998 0.10489875\n",
            " 0.10837304 0.11274072 0.11380782 0.10829859 0.10385646 0.10549434\n",
            " 0.1060403  0.10519655 0.10976276 0.10874528 0.10901826 0.10673516\n",
            " 0.10661108 0.10952107 0.10979404 0.11017466 0.11064865 0.11117841\n",
            " 0.111729   0.11227647 0.11280751 0.11331654 0.11380246 0.11426659\n",
            " 0.11471139 0.11513955 0.11555392 0.11595723]\n",
            "15 day output [[0.11635185]]\n",
            "16 day input [0.06975878 0.0776752  0.07171928 0.07784892 0.07700516 0.07869267\n",
            " 0.07439944 0.07536728 0.07149593 0.07740222 0.07839488 0.07757594\n",
            " 0.07556581 0.07531765 0.07030474 0.07298491 0.06134604 0.06196645\n",
            " 0.06603633 0.0672027  0.0588644  0.05653167 0.04873933 0.05419893\n",
            " 0.06035338 0.05742505 0.05390113 0.05350407 0.06000596 0.05534048\n",
            " 0.05948481 0.05898849 0.0588644  0.05496824 0.05330554 0.0524866\n",
            " 0.05442228 0.05065019 0.05648203 0.05650685 0.05859142 0.05955926\n",
            " 0.05702799 0.06010522 0.06787274 0.06578817 0.0670538  0.07112368\n",
            " 0.06782311 0.07238932 0.07655847 0.07586361 0.07514393 0.07439944\n",
            " 0.07854378 0.08239031 0.08395374 0.08472305 0.09139865 0.09651082\n",
            " 0.10283899 0.09953842 0.10417907 0.10266528 0.10549434 0.11420488\n",
            " 0.11254219 0.10735557 0.09757792 0.10675998 0.10489875 0.10837304\n",
            " 0.11274072 0.11380782 0.10829859 0.10385646 0.10549434 0.1060403\n",
            " 0.10519655 0.10976276 0.10874528 0.10901826 0.10673516 0.10661108\n",
            " 0.10952107 0.10979404 0.11017466 0.11064865 0.11117841 0.111729\n",
            " 0.11227647 0.11280751 0.11331654 0.11380246 0.11426659 0.11471139\n",
            " 0.11513955 0.11555392 0.11595723 0.11635185]\n",
            "16 day output [[0.11674009]]\n",
            "17 day input [0.0776752  0.07171928 0.07784892 0.07700516 0.07869267 0.07439944\n",
            " 0.07536728 0.07149593 0.07740222 0.07839488 0.07757594 0.07556581\n",
            " 0.07531765 0.07030474 0.07298491 0.06134604 0.06196645 0.06603633\n",
            " 0.0672027  0.0588644  0.05653167 0.04873933 0.05419893 0.06035338\n",
            " 0.05742505 0.05390113 0.05350407 0.06000596 0.05534048 0.05948481\n",
            " 0.05898849 0.0588644  0.05496824 0.05330554 0.0524866  0.05442228\n",
            " 0.05065019 0.05648203 0.05650685 0.05859142 0.05955926 0.05702799\n",
            " 0.06010522 0.06787274 0.06578817 0.0670538  0.07112368 0.06782311\n",
            " 0.07238932 0.07655847 0.07586361 0.07514393 0.07439944 0.07854378\n",
            " 0.08239031 0.08395374 0.08472305 0.09139865 0.09651082 0.10283899\n",
            " 0.09953842 0.10417907 0.10266528 0.10549434 0.11420488 0.11254219\n",
            " 0.10735557 0.09757792 0.10675998 0.10489875 0.10837304 0.11274072\n",
            " 0.11380782 0.10829859 0.10385646 0.10549434 0.1060403  0.10519655\n",
            " 0.10976276 0.10874528 0.10901826 0.10673516 0.10661108 0.10952107\n",
            " 0.10979404 0.11017466 0.11064865 0.11117841 0.111729   0.11227647\n",
            " 0.11280751 0.11331654 0.11380246 0.11426659 0.11471139 0.11513955\n",
            " 0.11555392 0.11595723 0.11635185 0.11674009]\n",
            "17 day output [[0.11712374]]\n",
            "18 day input [0.07171928 0.07784892 0.07700516 0.07869267 0.07439944 0.07536728\n",
            " 0.07149593 0.07740222 0.07839488 0.07757594 0.07556581 0.07531765\n",
            " 0.07030474 0.07298491 0.06134604 0.06196645 0.06603633 0.0672027\n",
            " 0.0588644  0.05653167 0.04873933 0.05419893 0.06035338 0.05742505\n",
            " 0.05390113 0.05350407 0.06000596 0.05534048 0.05948481 0.05898849\n",
            " 0.0588644  0.05496824 0.05330554 0.0524866  0.05442228 0.05065019\n",
            " 0.05648203 0.05650685 0.05859142 0.05955926 0.05702799 0.06010522\n",
            " 0.06787274 0.06578817 0.0670538  0.07112368 0.06782311 0.07238932\n",
            " 0.07655847 0.07586361 0.07514393 0.07439944 0.07854378 0.08239031\n",
            " 0.08395374 0.08472305 0.09139865 0.09651082 0.10283899 0.09953842\n",
            " 0.10417907 0.10266528 0.10549434 0.11420488 0.11254219 0.10735557\n",
            " 0.09757792 0.10675998 0.10489875 0.10837304 0.11274072 0.11380782\n",
            " 0.10829859 0.10385646 0.10549434 0.1060403  0.10519655 0.10976276\n",
            " 0.10874528 0.10901826 0.10673516 0.10661108 0.10952107 0.10979404\n",
            " 0.11017466 0.11064865 0.11117841 0.111729   0.11227647 0.11280751\n",
            " 0.11331654 0.11380246 0.11426659 0.11471139 0.11513955 0.11555392\n",
            " 0.11595723 0.11635185 0.11674009 0.11712374]\n",
            "18 day output [[0.11750428]]\n",
            "19 day input [0.07784892 0.07700516 0.07869267 0.07439944 0.07536728 0.07149593\n",
            " 0.07740222 0.07839488 0.07757594 0.07556581 0.07531765 0.07030474\n",
            " 0.07298491 0.06134604 0.06196645 0.06603633 0.0672027  0.0588644\n",
            " 0.05653167 0.04873933 0.05419893 0.06035338 0.05742505 0.05390113\n",
            " 0.05350407 0.06000596 0.05534048 0.05948481 0.05898849 0.0588644\n",
            " 0.05496824 0.05330554 0.0524866  0.05442228 0.05065019 0.05648203\n",
            " 0.05650685 0.05859142 0.05955926 0.05702799 0.06010522 0.06787274\n",
            " 0.06578817 0.0670538  0.07112368 0.06782311 0.07238932 0.07655847\n",
            " 0.07586361 0.07514393 0.07439944 0.07854378 0.08239031 0.08395374\n",
            " 0.08472305 0.09139865 0.09651082 0.10283899 0.09953842 0.10417907\n",
            " 0.10266528 0.10549434 0.11420488 0.11254219 0.10735557 0.09757792\n",
            " 0.10675998 0.10489875 0.10837304 0.11274072 0.11380782 0.10829859\n",
            " 0.10385646 0.10549434 0.1060403  0.10519655 0.10976276 0.10874528\n",
            " 0.10901826 0.10673516 0.10661108 0.10952107 0.10979404 0.11017466\n",
            " 0.11064865 0.11117841 0.111729   0.11227647 0.11280751 0.11331654\n",
            " 0.11380246 0.11426659 0.11471139 0.11513955 0.11555392 0.11595723\n",
            " 0.11635185 0.11674009 0.11712374 0.11750428]\n",
            "19 day output [[0.11788283]]\n",
            "20 day input [0.07700516 0.07869267 0.07439944 0.07536728 0.07149593 0.07740222\n",
            " 0.07839488 0.07757594 0.07556581 0.07531765 0.07030474 0.07298491\n",
            " 0.06134604 0.06196645 0.06603633 0.0672027  0.0588644  0.05653167\n",
            " 0.04873933 0.05419893 0.06035338 0.05742505 0.05390113 0.05350407\n",
            " 0.06000596 0.05534048 0.05948481 0.05898849 0.0588644  0.05496824\n",
            " 0.05330554 0.0524866  0.05442228 0.05065019 0.05648203 0.05650685\n",
            " 0.05859142 0.05955926 0.05702799 0.06010522 0.06787274 0.06578817\n",
            " 0.0670538  0.07112368 0.06782311 0.07238932 0.07655847 0.07586361\n",
            " 0.07514393 0.07439944 0.07854378 0.08239031 0.08395374 0.08472305\n",
            " 0.09139865 0.09651082 0.10283899 0.09953842 0.10417907 0.10266528\n",
            " 0.10549434 0.11420488 0.11254219 0.10735557 0.09757792 0.10675998\n",
            " 0.10489875 0.10837304 0.11274072 0.11380782 0.10829859 0.10385646\n",
            " 0.10549434 0.1060403  0.10519655 0.10976276 0.10874528 0.10901826\n",
            " 0.10673516 0.10661108 0.10952107 0.10979404 0.11017466 0.11064865\n",
            " 0.11117841 0.111729   0.11227647 0.11280751 0.11331654 0.11380246\n",
            " 0.11426659 0.11471139 0.11513955 0.11555392 0.11595723 0.11635185\n",
            " 0.11674009 0.11712374 0.11750428 0.11788283]\n",
            "20 day output [[0.11826023]]\n",
            "21 day input [0.07869267 0.07439944 0.07536728 0.07149593 0.07740222 0.07839488\n",
            " 0.07757594 0.07556581 0.07531765 0.07030474 0.07298491 0.06134604\n",
            " 0.06196645 0.06603633 0.0672027  0.0588644  0.05653167 0.04873933\n",
            " 0.05419893 0.06035338 0.05742505 0.05390113 0.05350407 0.06000596\n",
            " 0.05534048 0.05948481 0.05898849 0.0588644  0.05496824 0.05330554\n",
            " 0.0524866  0.05442228 0.05065019 0.05648203 0.05650685 0.05859142\n",
            " 0.05955926 0.05702799 0.06010522 0.06787274 0.06578817 0.0670538\n",
            " 0.07112368 0.06782311 0.07238932 0.07655847 0.07586361 0.07514393\n",
            " 0.07439944 0.07854378 0.08239031 0.08395374 0.08472305 0.09139865\n",
            " 0.09651082 0.10283899 0.09953842 0.10417907 0.10266528 0.10549434\n",
            " 0.11420488 0.11254219 0.10735557 0.09757792 0.10675998 0.10489875\n",
            " 0.10837304 0.11274072 0.11380782 0.10829859 0.10385646 0.10549434\n",
            " 0.1060403  0.10519655 0.10976276 0.10874528 0.10901826 0.10673516\n",
            " 0.10661108 0.10952107 0.10979404 0.11017466 0.11064865 0.11117841\n",
            " 0.111729   0.11227647 0.11280751 0.11331654 0.11380246 0.11426659\n",
            " 0.11471139 0.11513955 0.11555392 0.11595723 0.11635185 0.11674009\n",
            " 0.11712374 0.11750428 0.11788283 0.11826023]\n",
            "21 day output [[0.11863689]]\n",
            "22 day input [0.07439944 0.07536728 0.07149593 0.07740222 0.07839488 0.07757594\n",
            " 0.07556581 0.07531765 0.07030474 0.07298491 0.06134604 0.06196645\n",
            " 0.06603633 0.0672027  0.0588644  0.05653167 0.04873933 0.05419893\n",
            " 0.06035338 0.05742505 0.05390113 0.05350407 0.06000596 0.05534048\n",
            " 0.05948481 0.05898849 0.0588644  0.05496824 0.05330554 0.0524866\n",
            " 0.05442228 0.05065019 0.05648203 0.05650685 0.05859142 0.05955926\n",
            " 0.05702799 0.06010522 0.06787274 0.06578817 0.0670538  0.07112368\n",
            " 0.06782311 0.07238932 0.07655847 0.07586361 0.07514393 0.07439944\n",
            " 0.07854378 0.08239031 0.08395374 0.08472305 0.09139865 0.09651082\n",
            " 0.10283899 0.09953842 0.10417907 0.10266528 0.10549434 0.11420488\n",
            " 0.11254219 0.10735557 0.09757792 0.10675998 0.10489875 0.10837304\n",
            " 0.11274072 0.11380782 0.10829859 0.10385646 0.10549434 0.1060403\n",
            " 0.10519655 0.10976276 0.10874528 0.10901826 0.10673516 0.10661108\n",
            " 0.10952107 0.10979404 0.11017466 0.11064865 0.11117841 0.111729\n",
            " 0.11227647 0.11280751 0.11331654 0.11380246 0.11426659 0.11471139\n",
            " 0.11513955 0.11555392 0.11595723 0.11635185 0.11674009 0.11712374\n",
            " 0.11750428 0.11788283 0.11826023 0.11863689]\n",
            "22 day output [[0.11901304]]\n",
            "23 day input [0.07536728 0.07149593 0.07740222 0.07839488 0.07757594 0.07556581\n",
            " 0.07531765 0.07030474 0.07298491 0.06134604 0.06196645 0.06603633\n",
            " 0.0672027  0.0588644  0.05653167 0.04873933 0.05419893 0.06035338\n",
            " 0.05742505 0.05390113 0.05350407 0.06000596 0.05534048 0.05948481\n",
            " 0.05898849 0.0588644  0.05496824 0.05330554 0.0524866  0.05442228\n",
            " 0.05065019 0.05648203 0.05650685 0.05859142 0.05955926 0.05702799\n",
            " 0.06010522 0.06787274 0.06578817 0.0670538  0.07112368 0.06782311\n",
            " 0.07238932 0.07655847 0.07586361 0.07514393 0.07439944 0.07854378\n",
            " 0.08239031 0.08395374 0.08472305 0.09139865 0.09651082 0.10283899\n",
            " 0.09953842 0.10417907 0.10266528 0.10549434 0.11420488 0.11254219\n",
            " 0.10735557 0.09757792 0.10675998 0.10489875 0.10837304 0.11274072\n",
            " 0.11380782 0.10829859 0.10385646 0.10549434 0.1060403  0.10519655\n",
            " 0.10976276 0.10874528 0.10901826 0.10673516 0.10661108 0.10952107\n",
            " 0.10979404 0.11017466 0.11064865 0.11117841 0.111729   0.11227647\n",
            " 0.11280751 0.11331654 0.11380246 0.11426659 0.11471139 0.11513955\n",
            " 0.11555392 0.11595723 0.11635185 0.11674009 0.11712374 0.11750428\n",
            " 0.11788283 0.11826023 0.11863689 0.11901304]\n",
            "23 day output [[0.11938868]]\n",
            "24 day input [0.07149593 0.07740222 0.07839488 0.07757594 0.07556581 0.07531765\n",
            " 0.07030474 0.07298491 0.06134604 0.06196645 0.06603633 0.0672027\n",
            " 0.0588644  0.05653167 0.04873933 0.05419893 0.06035338 0.05742505\n",
            " 0.05390113 0.05350407 0.06000596 0.05534048 0.05948481 0.05898849\n",
            " 0.0588644  0.05496824 0.05330554 0.0524866  0.05442228 0.05065019\n",
            " 0.05648203 0.05650685 0.05859142 0.05955926 0.05702799 0.06010522\n",
            " 0.06787274 0.06578817 0.0670538  0.07112368 0.06782311 0.07238932\n",
            " 0.07655847 0.07586361 0.07514393 0.07439944 0.07854378 0.08239031\n",
            " 0.08395374 0.08472305 0.09139865 0.09651082 0.10283899 0.09953842\n",
            " 0.10417907 0.10266528 0.10549434 0.11420488 0.11254219 0.10735557\n",
            " 0.09757792 0.10675998 0.10489875 0.10837304 0.11274072 0.11380782\n",
            " 0.10829859 0.10385646 0.10549434 0.1060403  0.10519655 0.10976276\n",
            " 0.10874528 0.10901826 0.10673516 0.10661108 0.10952107 0.10979404\n",
            " 0.11017466 0.11064865 0.11117841 0.111729   0.11227647 0.11280751\n",
            " 0.11331654 0.11380246 0.11426659 0.11471139 0.11513955 0.11555392\n",
            " 0.11595723 0.11635185 0.11674009 0.11712374 0.11750428 0.11788283\n",
            " 0.11826023 0.11863689 0.11901304 0.11938868]\n",
            "24 day output [[0.11976363]]\n",
            "25 day input [0.07740222 0.07839488 0.07757594 0.07556581 0.07531765 0.07030474\n",
            " 0.07298491 0.06134604 0.06196645 0.06603633 0.0672027  0.0588644\n",
            " 0.05653167 0.04873933 0.05419893 0.06035338 0.05742505 0.05390113\n",
            " 0.05350407 0.06000596 0.05534048 0.05948481 0.05898849 0.0588644\n",
            " 0.05496824 0.05330554 0.0524866  0.05442228 0.05065019 0.05648203\n",
            " 0.05650685 0.05859142 0.05955926 0.05702799 0.06010522 0.06787274\n",
            " 0.06578817 0.0670538  0.07112368 0.06782311 0.07238932 0.07655847\n",
            " 0.07586361 0.07514393 0.07439944 0.07854378 0.08239031 0.08395374\n",
            " 0.08472305 0.09139865 0.09651082 0.10283899 0.09953842 0.10417907\n",
            " 0.10266528 0.10549434 0.11420488 0.11254219 0.10735557 0.09757792\n",
            " 0.10675998 0.10489875 0.10837304 0.11274072 0.11380782 0.10829859\n",
            " 0.10385646 0.10549434 0.1060403  0.10519655 0.10976276 0.10874528\n",
            " 0.10901826 0.10673516 0.10661108 0.10952107 0.10979404 0.11017466\n",
            " 0.11064865 0.11117841 0.111729   0.11227647 0.11280751 0.11331654\n",
            " 0.11380246 0.11426659 0.11471139 0.11513955 0.11555392 0.11595723\n",
            " 0.11635185 0.11674009 0.11712374 0.11750428 0.11788283 0.11826023\n",
            " 0.11863689 0.11901304 0.11938868 0.11976363]\n",
            "25 day output [[0.12013761]]\n",
            "26 day input [0.07839488 0.07757594 0.07556581 0.07531765 0.07030474 0.07298491\n",
            " 0.06134604 0.06196645 0.06603633 0.0672027  0.0588644  0.05653167\n",
            " 0.04873933 0.05419893 0.06035338 0.05742505 0.05390113 0.05350407\n",
            " 0.06000596 0.05534048 0.05948481 0.05898849 0.0588644  0.05496824\n",
            " 0.05330554 0.0524866  0.05442228 0.05065019 0.05648203 0.05650685\n",
            " 0.05859142 0.05955926 0.05702799 0.06010522 0.06787274 0.06578817\n",
            " 0.0670538  0.07112368 0.06782311 0.07238932 0.07655847 0.07586361\n",
            " 0.07514393 0.07439944 0.07854378 0.08239031 0.08395374 0.08472305\n",
            " 0.09139865 0.09651082 0.10283899 0.09953842 0.10417907 0.10266528\n",
            " 0.10549434 0.11420488 0.11254219 0.10735557 0.09757792 0.10675998\n",
            " 0.10489875 0.10837304 0.11274072 0.11380782 0.10829859 0.10385646\n",
            " 0.10549434 0.1060403  0.10519655 0.10976276 0.10874528 0.10901826\n",
            " 0.10673516 0.10661108 0.10952107 0.10979404 0.11017466 0.11064865\n",
            " 0.11117841 0.111729   0.11227647 0.11280751 0.11331654 0.11380246\n",
            " 0.11426659 0.11471139 0.11513955 0.11555392 0.11595723 0.11635185\n",
            " 0.11674009 0.11712374 0.11750428 0.11788283 0.11826023 0.11863689\n",
            " 0.11901304 0.11938868 0.11976363 0.12013761]\n",
            "26 day output [[0.12051031]]\n",
            "27 day input [0.07757594 0.07556581 0.07531765 0.07030474 0.07298491 0.06134604\n",
            " 0.06196645 0.06603633 0.0672027  0.0588644  0.05653167 0.04873933\n",
            " 0.05419893 0.06035338 0.05742505 0.05390113 0.05350407 0.06000596\n",
            " 0.05534048 0.05948481 0.05898849 0.0588644  0.05496824 0.05330554\n",
            " 0.0524866  0.05442228 0.05065019 0.05648203 0.05650685 0.05859142\n",
            " 0.05955926 0.05702799 0.06010522 0.06787274 0.06578817 0.0670538\n",
            " 0.07112368 0.06782311 0.07238932 0.07655847 0.07586361 0.07514393\n",
            " 0.07439944 0.07854378 0.08239031 0.08395374 0.08472305 0.09139865\n",
            " 0.09651082 0.10283899 0.09953842 0.10417907 0.10266528 0.10549434\n",
            " 0.11420488 0.11254219 0.10735557 0.09757792 0.10675998 0.10489875\n",
            " 0.10837304 0.11274072 0.11380782 0.10829859 0.10385646 0.10549434\n",
            " 0.1060403  0.10519655 0.10976276 0.10874528 0.10901826 0.10673516\n",
            " 0.10661108 0.10952107 0.10979404 0.11017466 0.11064865 0.11117841\n",
            " 0.111729   0.11227647 0.11280751 0.11331654 0.11380246 0.11426659\n",
            " 0.11471139 0.11513955 0.11555392 0.11595723 0.11635185 0.11674009\n",
            " 0.11712374 0.11750428 0.11788283 0.11826023 0.11863689 0.11901304\n",
            " 0.11938868 0.11976363 0.12013761 0.12051031]\n",
            "27 day output [[0.12088132]]\n",
            "28 day input [0.07556581 0.07531765 0.07030474 0.07298491 0.06134604 0.06196645\n",
            " 0.06603633 0.0672027  0.0588644  0.05653167 0.04873933 0.05419893\n",
            " 0.06035338 0.05742505 0.05390113 0.05350407 0.06000596 0.05534048\n",
            " 0.05948481 0.05898849 0.0588644  0.05496824 0.05330554 0.0524866\n",
            " 0.05442228 0.05065019 0.05648203 0.05650685 0.05859142 0.05955926\n",
            " 0.05702799 0.06010522 0.06787274 0.06578817 0.0670538  0.07112368\n",
            " 0.06782311 0.07238932 0.07655847 0.07586361 0.07514393 0.07439944\n",
            " 0.07854378 0.08239031 0.08395374 0.08472305 0.09139865 0.09651082\n",
            " 0.10283899 0.09953842 0.10417907 0.10266528 0.10549434 0.11420488\n",
            " 0.11254219 0.10735557 0.09757792 0.10675998 0.10489875 0.10837304\n",
            " 0.11274072 0.11380782 0.10829859 0.10385646 0.10549434 0.1060403\n",
            " 0.10519655 0.10976276 0.10874528 0.10901826 0.10673516 0.10661108\n",
            " 0.10952107 0.10979404 0.11017466 0.11064865 0.11117841 0.111729\n",
            " 0.11227647 0.11280751 0.11331654 0.11380246 0.11426659 0.11471139\n",
            " 0.11513955 0.11555392 0.11595723 0.11635185 0.11674009 0.11712374\n",
            " 0.11750428 0.11788283 0.11826023 0.11863689 0.11901304 0.11938868\n",
            " 0.11976363 0.12013761 0.12051031 0.12088132]\n",
            "28 day output [[0.12125033]]\n",
            "29 day input [0.07531765 0.07030474 0.07298491 0.06134604 0.06196645 0.06603633\n",
            " 0.0672027  0.0588644  0.05653167 0.04873933 0.05419893 0.06035338\n",
            " 0.05742505 0.05390113 0.05350407 0.06000596 0.05534048 0.05948481\n",
            " 0.05898849 0.0588644  0.05496824 0.05330554 0.0524866  0.05442228\n",
            " 0.05065019 0.05648203 0.05650685 0.05859142 0.05955926 0.05702799\n",
            " 0.06010522 0.06787274 0.06578817 0.0670538  0.07112368 0.06782311\n",
            " 0.07238932 0.07655847 0.07586361 0.07514393 0.07439944 0.07854378\n",
            " 0.08239031 0.08395374 0.08472305 0.09139865 0.09651082 0.10283899\n",
            " 0.09953842 0.10417907 0.10266528 0.10549434 0.11420488 0.11254219\n",
            " 0.10735557 0.09757792 0.10675998 0.10489875 0.10837304 0.11274072\n",
            " 0.11380782 0.10829859 0.10385646 0.10549434 0.1060403  0.10519655\n",
            " 0.10976276 0.10874528 0.10901826 0.10673516 0.10661108 0.10952107\n",
            " 0.10979404 0.11017466 0.11064865 0.11117841 0.111729   0.11227647\n",
            " 0.11280751 0.11331654 0.11380246 0.11426659 0.11471139 0.11513955\n",
            " 0.11555392 0.11595723 0.11635185 0.11674009 0.11712374 0.11750428\n",
            " 0.11788283 0.11826023 0.11863689 0.11901304 0.11938868 0.11976363\n",
            " 0.12013761 0.12051031 0.12088132 0.12125033]\n",
            "29 day output [[0.12161698]]\n",
            "[[0.10952106863260269], [0.10979403555393219], [0.11017466336488724], [0.11064865440130234], [0.11117841303348541], [0.11172899603843689], [0.11227647215127945], [0.1128075122833252], [0.11331654340028763], [0.1138024628162384], [0.11426658928394318], [0.11471138894557953], [0.11513955146074295], [0.11555392295122147], [0.11595723032951355], [0.11635185033082962], [0.11674009263515472], [0.11712373793125153], [0.11750428378582001], [0.11788282543420792], [0.1182602271437645], [0.11863689124584198], [0.11901304125785828], [0.11938867717981339], [0.11976362764835358], [0.12013760954141617], [0.12051030993461609], [0.12088131904602051], [0.12125033140182495], [0.12161698192358017]]\n"
          ],
          "name": "stdout"
        }
      ]
    },
    {
      "cell_type": "code",
      "metadata": {
        "id": "Y4VGK2uUdKb3"
      },
      "source": [
        "day_new=np.arange(1,101)\n",
        "day_pred=np.arange(101,131)"
      ],
      "execution_count": null,
      "outputs": []
    },
    {
      "cell_type": "code",
      "metadata": {
        "id": "DuHgO2ltdKb3"
      },
      "source": [
        "import matplotlib.pyplot as plt"
      ],
      "execution_count": null,
      "outputs": []
    },
    {
      "cell_type": "code",
      "metadata": {
        "id": "X_fmdD4-dKb4",
        "colab": {
          "base_uri": "https://localhost:8080/"
        },
        "outputId": "8a9f141f-bde8-45d9-d6f1-2aad2cb866df"
      },
      "source": [
        "len(df1)"
      ],
      "execution_count": null,
      "outputs": [
        {
          "output_type": "execute_result",
          "data": {
            "text/plain": [
              "1257"
            ]
          },
          "metadata": {
            "tags": []
          },
          "execution_count": 44
        }
      ]
    },
    {
      "cell_type": "code",
      "metadata": {
        "id": "BB5SP-4BdKb4",
        "colab": {
          "base_uri": "https://localhost:8080/"
        },
        "outputId": "01543bd3-6fb1-46fd-b8c1-f63cd7d24393"
      },
      "source": [
        "print(scaler.inverse_transform(lst_output)[:10].reshape(10))"
      ],
      "execution_count": null,
      "outputs": [
        {
          "output_type": "stream",
          "text": [
            "[147.26260982 147.37260457 147.52598235 147.71698178 147.93045332\n",
            " 148.15231624 148.37292722 148.58691515 148.79203433 148.98784042]\n"
          ],
          "name": "stdout"
        }
      ]
    },
    {
      "cell_type": "code",
      "metadata": {
        "id": "VoitmOKjdKb4",
        "colab": {
          "base_uri": "https://localhost:8080/",
          "height": 283
        },
        "outputId": "9dd768d4-c266-4fe6-b7b4-4869af07db84"
      },
      "source": [
        "plt.plot(day_new,scaler.inverse_transform(df1[1157:]))\n",
        "plt.plot(day_pred,scaler.inverse_transform(lst_output))"
      ],
      "execution_count": null,
      "outputs": [
        {
          "output_type": "execute_result",
          "data": {
            "text/plain": [
              "[<matplotlib.lines.Line2D at 0x7ff7f6aaed10>]"
            ]
          },
          "metadata": {
            "tags": []
          },
          "execution_count": 47
        },
        {
          "output_type": "display_data",
          "data": {
            "image/png": "[encoded data removed]",
            "text/plain": [
              "<Figure size 432x288 with 1 Axes>"
            ]
          },
          "metadata": {
            "tags": [],
            "needs_background": "light"
          }
        }
      ]
    },
    {
      "cell_type": "code",
      "metadata": {
        "id": "-cIfENtddKb4",
        "colab": {
          "base_uri": "https://localhost:8080/",
          "height": 283
        },
        "outputId": "3bfa6b6a-0f3f-4276-e5bd-043ba4d162ca"
      },
      "source": [
        "df3=df1.tolist()\n",
        "df3.extend(lst_output)\n",
        "plt.plot(df3[1200:])"
      ],
      "execution_count": null,
      "outputs": [
        {
          "output_type": "execute_result",
          "data": {
            "text/plain": [
              "[<matplotlib.lines.Line2D at 0x7ff7f683df90>]"
            ]
          },
          "metadata": {
            "tags": []
          },
          "execution_count": 48
        },
        {
          "output_type": "display_data",
          "data": {
            "image/png": "[encoded data removed]",
            "text/plain": [
              "<Figure size 432x288 with 1 Axes>"
            ]
          },
          "metadata": {
            "tags": [],
            "needs_background": "light"
          }
        }
      ]
    },
    {
      "cell_type": "code",
      "metadata": {
        "id": "h8Gqu93sdKb5"
      },
      "source": [
        "df3=scaler.inverse_transform(df3).tolist()"
      ],
      "execution_count": null,
      "outputs": []
    },
    {
      "cell_type": "code",
      "metadata": {
        "id": "9gBhUxd7dKb5",
        "colab": {
          "base_uri": "https://localhost:8080/",
          "height": 283
        },
        "outputId": "ada944a0-3205-471b-f9bc-9b0355088ca0"
      },
      "source": [
        "plt.plot(df3)"
      ],
      "execution_count": null,
      "outputs": [
        {
          "output_type": "execute_result",
          "data": {
            "text/plain": [
              "[<matplotlib.lines.Line2D at 0x7ff7f6897d90>]"
            ]
          },
          "metadata": {
            "tags": []
          },
          "execution_count": 50
        },
        {
          "output_type": "display_data",
          "data": {
            "image/png": "[encoded data removed]",
            "text/plain": [
              "<Figure size 432x288 with 1 Axes>"
            ]
          },
          "metadata": {
            "tags": [],
            "needs_background": "light"
          }
        }
      ]
    },
    {
      "cell_type": "code",
      "metadata": {
        "id": "3hT5u1i5dKb5"
      },
      "source": [
        ""
      ],
      "execution_count": null,
      "outputs": []
    }
  ]
}